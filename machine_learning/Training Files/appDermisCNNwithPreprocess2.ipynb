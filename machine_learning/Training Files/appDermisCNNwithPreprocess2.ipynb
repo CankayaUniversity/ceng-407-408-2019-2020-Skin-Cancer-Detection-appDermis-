{
  "nbformat": 4,
  "nbformat_minor": 0,
  "metadata": {
    "colab": {
      "name": "appDermisCNNwithPreprocess2.ipynb",
      "provenance": [],
      "collapsed_sections": []
    },
    "kernelspec": {
      "name": "python3",
      "display_name": "Python 3"
    },
    "accelerator": "GPU"
  },
  "cells": [
    {
      "cell_type": "code",
      "metadata": {
        "id": "TKqka55F60g3",
        "colab_type": "code",
        "outputId": "dec7e52f-9cb5-4d80-8d78-76777703c466",
        "colab": {
          "base_uri": "https://localhost:8080/",
          "height": 54
        }
      },
      "source": [
        "#Mount Drive\n",
        "\n",
        "from google.colab import drive\n",
        "drive.mount(\"/content/drive\") "
      ],
      "execution_count": 0,
      "outputs": [
        {
          "output_type": "stream",
          "text": [
            "Drive already mounted at /content/drive; to attempt to forcibly remount, call drive.mount(\"/content/drive\", force_remount=True).\n"
          ],
          "name": "stdout"
        }
      ]
    },
    {
      "cell_type": "code",
      "metadata": {
        "id": "6fQtlLVm7KJt",
        "colab_type": "code",
        "outputId": "9892e445-c1ea-450c-ff52-dcb95ecb11d6",
        "colab": {
          "base_uri": "https://localhost:8080/",
          "height": 34
        }
      },
      "source": [
        "#Extract Zip Files\n",
        "\n",
        "from zipfile import ZipFile\n",
        "file_name = \"/content/drive/My Drive/Ham10000/HAM10000_images_part_1.zip\"\n",
        "\n",
        "with ZipFile(file_name,'r') as zip:\n",
        "  zip.extractall(\"/HAM10000_images_part_1\")\n",
        "  print('Done')"
      ],
      "execution_count": 0,
      "outputs": [
        {
          "output_type": "stream",
          "text": [
            "Done\n"
          ],
          "name": "stdout"
        }
      ]
    },
    {
      "cell_type": "code",
      "metadata": {
        "id": "dGFFBea67Kk2",
        "colab_type": "code",
        "outputId": "8a213368-50ee-4058-f619-6fd57e447c55",
        "colab": {
          "base_uri": "https://localhost:8080/",
          "height": 34
        }
      },
      "source": [
        "from zipfile import ZipFile\n",
        "file_name = \"/content/drive/My Drive/Ham10000/HAM10000_images_part_2.zip\"\n",
        "\n",
        "with ZipFile(file_name,'r') as zip:\n",
        "  zip.extractall(\"/HAM10000_images_part_2\")\n",
        "  print('Done')"
      ],
      "execution_count": 0,
      "outputs": [
        {
          "output_type": "stream",
          "text": [
            "Done\n"
          ],
          "name": "stdout"
        }
      ]
    },
    {
      "cell_type": "code",
      "metadata": {
        "id": "_APYmejpDaAg",
        "colab_type": "code",
        "colab": {}
      },
      "source": [
        "#Image Preprocessing for HAM10000_images_part_1\n",
        "\n",
        "import cv2\n",
        "import glob\n",
        "import os,sys \n",
        "\n",
        "def process(image) :\n",
        "    src = cv2.imread(image)\n",
        "\n",
        "    print( src.shape )\n",
        "    cv2.imshow(\"original Image\" , src )\n",
        "\n",
        "\n",
        "    # Convert the original image to grayscale\n",
        "    grayScale = cv2.cvtColor( src, cv2.COLOR_RGB2GRAY )\n",
        "    \n",
        "    median = cv2.medianBlur(grayScale, 5)\n",
        "\n",
        "    return(median)\n",
        "\n",
        "    ## Get all the png image in the PATH_TO_IMAGES\n",
        "imgnames = sorted(glob.glob(\"/base_skin_dir/input/HAM10000_images_part_1/*.jpg\"))\n",
        "\n",
        "for imgname in imgnames:\n",
        "   \n",
        "    res = preprocess(imgname)\n",
        "\n",
        "    cv2.imwrite(imgname, res, [int(cv2.IMWRITE_JPEG_QUALITY), 90])"
      ],
      "execution_count": 0,
      "outputs": []
    },
    {
      "cell_type": "code",
      "metadata": {
        "id": "Svjj4LJuKB5x",
        "colab_type": "code",
        "colab": {}
      },
      "source": [
        "#Image Preprocessing for HAM10000_images_part_2\n",
        "\n",
        "def process(image) :\n",
        "    src = cv2.imread(image)\n",
        "\n",
        "    print( src.shape )\n",
        "    cv2.imshow(\"original Image\" , src )\n",
        "\n",
        "\n",
        "    # Convert the original image to grayscale\n",
        "    grayScale = cv2.cvtColor( src, cv2.COLOR_RGB2GRAY )\n",
        "    \n",
        "    median = cv2.medianBlur(grayScale, 5)\n",
        "\n",
        "    return(median)\n",
        "\n",
        "    # Get all the png image in the PATH_TO_IMAGES\n",
        "imgnames = sorted(glob.glob(\"/base_skin_dir/input/HAM10000_images_part_2/*.jpg\"))\n",
        "\n",
        "for imgname in imgnames:\n",
        "   \n",
        "    res = preprocess(imgname)\n",
        "\n",
        "    cv2.imwrite(imgname, res, [int(cv2.IMWRITE_JPEG_QUALITY), 90])"
      ],
      "execution_count": 0,
      "outputs": []
    },
    {
      "cell_type": "code",
      "metadata": {
        "id": "zCjZTkOM75J1",
        "colab_type": "code",
        "colab": {}
      },
      "source": [
        "#Libraries\n",
        "\n",
        "import matplotlib.pyplot as plt\n",
        "import numpy as np\n",
        "import pandas as pd\n",
        "import os\n",
        "from glob import glob\n",
        "import seaborn as sns\n",
        "from PIL import Image\n",
        "np.random.seed(123)\n",
        "from sklearn.preprocessing import label_binarize\n",
        "from sklearn.metrics import confusion_matrix\n",
        "import itertools\n",
        "\n",
        "import keras\n",
        "from keras.utils.np_utils import to_categorical # used for converting labels to one-hot-encoding\n",
        "from keras.models import Sequential\n",
        "from keras.layers import Dense, Dropout, Flatten, Conv2D, MaxPool2D\n",
        "from keras import backend as K\n",
        "import itertools\n",
        "from keras.layers.normalization import BatchNormalization\n",
        "from keras.utils.np_utils import to_categorical # convert to one-hot-encoding\n",
        "\n",
        "from keras.optimizers import Adam\n",
        "from keras.preprocessing.image import ImageDataGenerator\n",
        "from keras.callbacks import ReduceLROnPlateau\n",
        "from sklearn.model_selection import train_test_split"
      ],
      "execution_count": 0,
      "outputs": []
    },
    {
      "cell_type": "code",
      "metadata": {
        "id": "gFjWaZMT8X9k",
        "colab_type": "code",
        "colab": {}
      },
      "source": [
        "#Making Dictionary of images and labels\n",
        "\n",
        "base_skin_dir = os.path.join('/base_skin_dir','input')\n",
        "\n",
        "imageid_path_dict = {os.path.splitext(os.path.basename(x))[0]: x\n",
        "                     for x in glob(os.path.join(base_skin_dir, '*', '*.jpg'))}\n",
        "\n",
        "lesion_type_dict = {\n",
        "    'nv': 'Melanocytic nevi',\n",
        "    'mel': 'Melanoma',  #cancer\n",
        "    'bkl': 'Benign keratosis-like lesions ',\n",
        "    'bcc': 'Basal cell carcinoma',  #cancer\n",
        "    'akiec': 'Actinic keratoses',   #pre-cancer\n",
        "    'vasc': 'Vascular lesions',\n",
        "    'df': 'Dermatofibroma'\n",
        "}"
      ],
      "execution_count": 0,
      "outputs": []
    },
    {
      "cell_type": "code",
      "metadata": {
        "id": "WAauwQzO9RgU",
        "colab_type": "code",
        "outputId": "de244e52-846d-4ec0-9bbb-67e04abb2beb",
        "colab": {
          "base_uri": "https://localhost:8080/",
          "height": 394
        }
      },
      "source": [
        "#Reading & Processing data\n",
        "\n",
        "skin_df = pd.read_csv(os.path.join(base_skin_dir, '/base_skin_dir/HAM10000_metadata.csv'))\n",
        "\n",
        "# We have read the csv by adding the path of the image file\n",
        "skin_df['path'] = skin_df['image_id'].map(imageid_path_dict.get)\n",
        "skin_df['cell_type'] = skin_df['dx'].map(lesion_type_dict.get) \n",
        "\n",
        "# We have categorized the lesion type into codes from 0 to 6\n",
        "skin_df['cell_type_idx'] = pd.Categorical(skin_df['cell_type']).codes\n",
        "\n",
        "# head() function shows first 5 rows.\n",
        "skin_df.head()"
      ],
      "execution_count": 0,
      "outputs": [
        {
          "output_type": "execute_result",
          "data": {
            "text/html": [
              "<div>\n",
              "<style scoped>\n",
              "    .dataframe tbody tr th:only-of-type {\n",
              "        vertical-align: middle;\n",
              "    }\n",
              "\n",
              "    .dataframe tbody tr th {\n",
              "        vertical-align: top;\n",
              "    }\n",
              "\n",
              "    .dataframe thead th {\n",
              "        text-align: right;\n",
              "    }\n",
              "</style>\n",
              "<table border=\"1\" class=\"dataframe\">\n",
              "  <thead>\n",
              "    <tr style=\"text-align: right;\">\n",
              "      <th></th>\n",
              "      <th>lesion_id</th>\n",
              "      <th>image_id</th>\n",
              "      <th>dx</th>\n",
              "      <th>dx_type</th>\n",
              "      <th>age</th>\n",
              "      <th>sex</th>\n",
              "      <th>localization</th>\n",
              "      <th>path</th>\n",
              "      <th>cell_type</th>\n",
              "      <th>cell_type_idx</th>\n",
              "    </tr>\n",
              "  </thead>\n",
              "  <tbody>\n",
              "    <tr>\n",
              "      <th>0</th>\n",
              "      <td>HAM_0000118</td>\n",
              "      <td>ISIC_0027419</td>\n",
              "      <td>bkl</td>\n",
              "      <td>histo</td>\n",
              "      <td>80.0</td>\n",
              "      <td>male</td>\n",
              "      <td>scalp</td>\n",
              "      <td>/base_skin_dir/input/HAM10000_images_part_1/IS...</td>\n",
              "      <td>Benign keratosis-like lesions</td>\n",
              "      <td>2</td>\n",
              "    </tr>\n",
              "    <tr>\n",
              "      <th>1</th>\n",
              "      <td>HAM_0000118</td>\n",
              "      <td>ISIC_0025030</td>\n",
              "      <td>bkl</td>\n",
              "      <td>histo</td>\n",
              "      <td>80.0</td>\n",
              "      <td>male</td>\n",
              "      <td>scalp</td>\n",
              "      <td>/base_skin_dir/input/HAM10000_images_part_1/IS...</td>\n",
              "      <td>Benign keratosis-like lesions</td>\n",
              "      <td>2</td>\n",
              "    </tr>\n",
              "    <tr>\n",
              "      <th>2</th>\n",
              "      <td>HAM_0002730</td>\n",
              "      <td>ISIC_0026769</td>\n",
              "      <td>bkl</td>\n",
              "      <td>histo</td>\n",
              "      <td>80.0</td>\n",
              "      <td>male</td>\n",
              "      <td>scalp</td>\n",
              "      <td>/base_skin_dir/input/HAM10000_images_part_1/IS...</td>\n",
              "      <td>Benign keratosis-like lesions</td>\n",
              "      <td>2</td>\n",
              "    </tr>\n",
              "    <tr>\n",
              "      <th>3</th>\n",
              "      <td>HAM_0002730</td>\n",
              "      <td>ISIC_0025661</td>\n",
              "      <td>bkl</td>\n",
              "      <td>histo</td>\n",
              "      <td>80.0</td>\n",
              "      <td>male</td>\n",
              "      <td>scalp</td>\n",
              "      <td>/base_skin_dir/input/HAM10000_images_part_1/IS...</td>\n",
              "      <td>Benign keratosis-like lesions</td>\n",
              "      <td>2</td>\n",
              "    </tr>\n",
              "    <tr>\n",
              "      <th>4</th>\n",
              "      <td>HAM_0001466</td>\n",
              "      <td>ISIC_0031633</td>\n",
              "      <td>bkl</td>\n",
              "      <td>histo</td>\n",
              "      <td>75.0</td>\n",
              "      <td>male</td>\n",
              "      <td>ear</td>\n",
              "      <td>/base_skin_dir/input/HAM10000_images_part_2/IS...</td>\n",
              "      <td>Benign keratosis-like lesions</td>\n",
              "      <td>2</td>\n",
              "    </tr>\n",
              "  </tbody>\n",
              "</table>\n",
              "</div>"
            ],
            "text/plain": [
              "     lesion_id      image_id  ...                       cell_type cell_type_idx\n",
              "0  HAM_0000118  ISIC_0027419  ...  Benign keratosis-like lesions              2\n",
              "1  HAM_0000118  ISIC_0025030  ...  Benign keratosis-like lesions              2\n",
              "2  HAM_0002730  ISIC_0026769  ...  Benign keratosis-like lesions              2\n",
              "3  HAM_0002730  ISIC_0025661  ...  Benign keratosis-like lesions              2\n",
              "4  HAM_0001466  ISIC_0031633  ...  Benign keratosis-like lesions              2\n",
              "\n",
              "[5 rows x 10 columns]"
            ]
          },
          "metadata": {
            "tags": []
          },
          "execution_count": 47
        }
      ]
    },
    {
      "cell_type": "code",
      "metadata": {
        "id": "cOntwx1eFSOq",
        "colab_type": "code",
        "colab": {}
      },
      "source": [
        "# Resizing of images\n",
        "#The original dimension of images are 450 x 600 x3 which TensorFlow can't handle, so that’s why we resize it into 100 x 75\n",
        "\n",
        "skin_df['image'] = skin_df['path'].map(lambda x: np.asarray(Image.open(x).resize((100,75))))\n"
      ],
      "execution_count": 0,
      "outputs": []
    },
    {
      "cell_type": "code",
      "metadata": {
        "id": "0wveA39JGLyb",
        "colab_type": "code",
        "outputId": "faff01ec-b24c-41b2-aba2-920dafee972c",
        "colab": {
          "base_uri": "https://localhost:8080/",
          "height": 887
        }
      },
      "source": [
        "skin_df.head()"
      ],
      "execution_count": 0,
      "outputs": [
        {
          "output_type": "execute_result",
          "data": {
            "text/html": [
              "<div>\n",
              "<style scoped>\n",
              "    .dataframe tbody tr th:only-of-type {\n",
              "        vertical-align: middle;\n",
              "    }\n",
              "\n",
              "    .dataframe tbody tr th {\n",
              "        vertical-align: top;\n",
              "    }\n",
              "\n",
              "    .dataframe thead th {\n",
              "        text-align: right;\n",
              "    }\n",
              "</style>\n",
              "<table border=\"1\" class=\"dataframe\">\n",
              "  <thead>\n",
              "    <tr style=\"text-align: right;\">\n",
              "      <th></th>\n",
              "      <th>lesion_id</th>\n",
              "      <th>image_id</th>\n",
              "      <th>dx</th>\n",
              "      <th>dx_type</th>\n",
              "      <th>age</th>\n",
              "      <th>sex</th>\n",
              "      <th>localization</th>\n",
              "      <th>path</th>\n",
              "      <th>cell_type</th>\n",
              "      <th>cell_type_idx</th>\n",
              "      <th>image</th>\n",
              "    </tr>\n",
              "  </thead>\n",
              "  <tbody>\n",
              "    <tr>\n",
              "      <th>0</th>\n",
              "      <td>HAM_0000118</td>\n",
              "      <td>ISIC_0027419</td>\n",
              "      <td>bkl</td>\n",
              "      <td>histo</td>\n",
              "      <td>80.0</td>\n",
              "      <td>male</td>\n",
              "      <td>scalp</td>\n",
              "      <td>/base_skin_dir/input/HAM10000_images_part_1/IS...</td>\n",
              "      <td>Benign keratosis-like lesions</td>\n",
              "      <td>2</td>\n",
              "      <td>[[[191, 152, 195], [192, 154, 195], [191, 153,...</td>\n",
              "    </tr>\n",
              "    <tr>\n",
              "      <th>1</th>\n",
              "      <td>HAM_0000118</td>\n",
              "      <td>ISIC_0025030</td>\n",
              "      <td>bkl</td>\n",
              "      <td>histo</td>\n",
              "      <td>80.0</td>\n",
              "      <td>male</td>\n",
              "      <td>scalp</td>\n",
              "      <td>/base_skin_dir/input/HAM10000_images_part_1/IS...</td>\n",
              "      <td>Benign keratosis-like lesions</td>\n",
              "      <td>2</td>\n",
              "      <td>[[[23, 13, 23], [24, 14, 24], [25, 14, 29], [3...</td>\n",
              "    </tr>\n",
              "    <tr>\n",
              "      <th>2</th>\n",
              "      <td>HAM_0002730</td>\n",
              "      <td>ISIC_0026769</td>\n",
              "      <td>bkl</td>\n",
              "      <td>histo</td>\n",
              "      <td>80.0</td>\n",
              "      <td>male</td>\n",
              "      <td>scalp</td>\n",
              "      <td>/base_skin_dir/input/HAM10000_images_part_1/IS...</td>\n",
              "      <td>Benign keratosis-like lesions</td>\n",
              "      <td>2</td>\n",
              "      <td>[[[185, 127, 137], [189, 133, 147], [193, 136,...</td>\n",
              "    </tr>\n",
              "    <tr>\n",
              "      <th>3</th>\n",
              "      <td>HAM_0002730</td>\n",
              "      <td>ISIC_0025661</td>\n",
              "      <td>bkl</td>\n",
              "      <td>histo</td>\n",
              "      <td>80.0</td>\n",
              "      <td>male</td>\n",
              "      <td>scalp</td>\n",
              "      <td>/base_skin_dir/input/HAM10000_images_part_1/IS...</td>\n",
              "      <td>Benign keratosis-like lesions</td>\n",
              "      <td>2</td>\n",
              "      <td>[[[23, 11, 17], [26, 13, 22], [38, 21, 32], [5...</td>\n",
              "    </tr>\n",
              "    <tr>\n",
              "      <th>4</th>\n",
              "      <td>HAM_0001466</td>\n",
              "      <td>ISIC_0031633</td>\n",
              "      <td>bkl</td>\n",
              "      <td>histo</td>\n",
              "      <td>75.0</td>\n",
              "      <td>male</td>\n",
              "      <td>ear</td>\n",
              "      <td>/base_skin_dir/input/HAM10000_images_part_2/IS...</td>\n",
              "      <td>Benign keratosis-like lesions</td>\n",
              "      <td>2</td>\n",
              "      <td>[[[137, 92, 115], [148, 102, 125], [159, 115, ...</td>\n",
              "    </tr>\n",
              "  </tbody>\n",
              "</table>\n",
              "</div>"
            ],
            "text/plain": [
              "     lesion_id  ...                                              image\n",
              "0  HAM_0000118  ...  [[[191, 152, 195], [192, 154, 195], [191, 153,...\n",
              "1  HAM_0000118  ...  [[[23, 13, 23], [24, 14, 24], [25, 14, 29], [3...\n",
              "2  HAM_0002730  ...  [[[185, 127, 137], [189, 133, 147], [193, 136,...\n",
              "3  HAM_0002730  ...  [[[23, 11, 17], [26, 13, 22], [38, 21, 32], [5...\n",
              "4  HAM_0001466  ...  [[[137, 92, 115], [148, 102, 125], [159, 115, ...\n",
              "\n",
              "[5 rows x 11 columns]"
            ]
          },
          "metadata": {
            "tags": []
          },
          "execution_count": 50
        }
      ]
    },
    {
      "cell_type": "code",
      "metadata": {
        "id": "Onj_7RWdH8Nt",
        "colab_type": "code",
        "colab": {}
      },
      "source": [
        "#We have specified features(inputs) columns without the cell_type_idx column. The cell_type_idx column is the column we want to predict. It will be output.\n",
        "\n",
        "features=skin_df.drop(columns=['cell_type_idx'],axis=1)\n",
        "\n",
        "target=skin_df['cell_type_idx']"
      ],
      "execution_count": 0,
      "outputs": []
    },
    {
      "cell_type": "code",
      "metadata": {
        "id": "8NKh1N7mIBat",
        "colab_type": "code",
        "colab": {}
      },
      "source": [
        "#We have split the dataset into training and testing set in the ratio of 80:20.\n",
        "\n",
        "x_train_o, x_test_o, y_train_o, y_test_o = train_test_split(features, target, test_size=0.20,random_state=123)\n"
      ],
      "execution_count": 0,
      "outputs": []
    },
    {
      "cell_type": "code",
      "metadata": {
        "id": "zxMqZQ_lIICO",
        "colab_type": "code",
        "colab": {}
      },
      "source": [
        "#Normalization with z-score normalization.\n",
        "\n",
        "x_train = np.asarray(x_train_o['image'].tolist())\n",
        "x_test = np.asarray(x_test_o['image'].tolist())\n",
        "\n",
        "x_train_mean = np.mean(x_train)\n",
        "x_train_std = np.std(x_train)\n",
        "\n",
        "x_test_mean = np.mean(x_test)\n",
        "x_test_std = np.std(x_test)\n",
        "\n",
        "x_train = (x_train - x_train_mean)/x_train_std\n",
        "x_test = (x_test - x_test_mean)/x_test_std"
      ],
      "execution_count": 0,
      "outputs": []
    },
    {
      "cell_type": "code",
      "metadata": {
        "id": "jPttDvY-ILfU",
        "colab_type": "code",
        "colab": {}
      },
      "source": [
        "# Perform one-hot encoding on the labels\n",
        "\n",
        "# We will encode labels which are 7 different classes of skin cancer types from 0 to 6\n",
        "y_train = to_categorical(y_train_o, num_classes = 7)\n",
        "y_test = to_categorical(y_test_o, num_classes = 7)"
      ],
      "execution_count": 0,
      "outputs": []
    },
    {
      "cell_type": "code",
      "metadata": {
        "id": "LKAouHscIPCX",
        "colab_type": "code",
        "colab": {}
      },
      "source": [
        "# We split the train data set as validation set and train set in the ratio of 90:10.\n",
        "# Validation set is used to prevent overfitting\n",
        "x_train, x_validate, y_train, y_validate = train_test_split(x_train, y_train, test_size = 0.1, random_state = 2)\n"
      ],
      "execution_count": 0,
      "outputs": []
    },
    {
      "cell_type": "code",
      "metadata": {
        "id": "eykI-RmTITJG",
        "colab_type": "code",
        "colab": {}
      },
      "source": [
        "# Reshape image in 3 dimensions (height = 75px, width = 100px , canal = 3)\n",
        "x_train = x_train.reshape(x_train.shape[0], *(75, 100, 3))\n",
        "x_test = x_test.reshape(x_test.shape[0], *(75, 100, 3))\n",
        "x_validate = x_validate.reshape(x_validate.shape[0], *(75, 100, 3))"
      ],
      "execution_count": 0,
      "outputs": []
    },
    {
      "cell_type": "code",
      "metadata": {
        "id": "fgMpKGLJIX-l",
        "colab_type": "code",
        "outputId": "3488f07c-63bf-4692-86d1-f03993e37da7",
        "colab": {
          "base_uri": "https://localhost:8080/",
          "height": 561
        }
      },
      "source": [
        "#Model Building\n",
        "\n",
        "input_shape = (75, 100, 3)\n",
        "num_classes = 7\n",
        "\n",
        "model = Sequential()\n",
        "#Input Layer\n",
        "#Convolutional Layer\n",
        "model.add(Conv2D(32, kernel_size=(3, 3),activation='relu',padding = 'Same',input_shape=input_shape))\n",
        "model.add(Conv2D(32,kernel_size=(3, 3), activation='relu',padding = 'Same',))\n",
        "#Pooling Layer\n",
        "model.add(MaxPool2D(pool_size = (2, 2)))\n",
        "#Dropout Layer\n",
        "model.add(Dropout(0.25))\n",
        "\n",
        "model.add(Conv2D(64, (3, 3), activation='relu',padding = 'Same'))\n",
        "model.add(Conv2D(64, (3, 3), activation='relu',padding = 'Same'))\n",
        "model.add(MaxPool2D(pool_size=(2, 2)))\n",
        "model.add(Dropout(0.40))\n",
        "\n",
        "#Flattening Layer\n",
        "model.add(Flatten())\n",
        "model.add(Dense(128, activation='relu'))\n",
        "model.add(Dropout(0.5))\n",
        "model.add(Dense(num_classes, activation='softmax'))\n",
        "model.summary()"
      ],
      "execution_count": 0,
      "outputs": [
        {
          "output_type": "stream",
          "text": [
            "Model: \"sequential_4\"\n",
            "_________________________________________________________________\n",
            "Layer (type)                 Output Shape              Param #   \n",
            "=================================================================\n",
            "conv2d_13 (Conv2D)           (None, 75, 100, 32)       896       \n",
            "_________________________________________________________________\n",
            "conv2d_14 (Conv2D)           (None, 75, 100, 32)       9248      \n",
            "_________________________________________________________________\n",
            "max_pooling2d_7 (MaxPooling2 (None, 37, 50, 32)        0         \n",
            "_________________________________________________________________\n",
            "dropout_10 (Dropout)         (None, 37, 50, 32)        0         \n",
            "_________________________________________________________________\n",
            "conv2d_15 (Conv2D)           (None, 37, 50, 64)        18496     \n",
            "_________________________________________________________________\n",
            "conv2d_16 (Conv2D)           (None, 37, 50, 64)        36928     \n",
            "_________________________________________________________________\n",
            "max_pooling2d_8 (MaxPooling2 (None, 18, 25, 64)        0         \n",
            "_________________________________________________________________\n",
            "dropout_11 (Dropout)         (None, 18, 25, 64)        0         \n",
            "_________________________________________________________________\n",
            "flatten_4 (Flatten)          (None, 28800)             0         \n",
            "_________________________________________________________________\n",
            "dense_7 (Dense)              (None, 128)               3686528   \n",
            "_________________________________________________________________\n",
            "dropout_12 (Dropout)         (None, 128)               0         \n",
            "_________________________________________________________________\n",
            "dense_8 (Dense)              (None, 7)                 903       \n",
            "=================================================================\n",
            "Total params: 3,752,999\n",
            "Trainable params: 3,752,999\n",
            "Non-trainable params: 0\n",
            "_________________________________________________________________\n"
          ],
          "name": "stdout"
        }
      ]
    },
    {
      "cell_type": "code",
      "metadata": {
        "id": "UdsdkuPzIfwV",
        "colab_type": "code",
        "colab": {}
      },
      "source": [
        "# Define the optimizer\n",
        "#Optimizer=rate of train, \n",
        "optimizer = Adam(lr=0.001, beta_1=0.9, beta_2=0.999, epsilon=None, decay=0.0, amsgrad=False)\n",
        "\n",
        "# Compile the model\n",
        "#categorical_crossentropy for classification\n",
        "#accuracy is used to evaluate the performance our model\n",
        "model.compile(optimizer = optimizer , loss = \"categorical_crossentropy\", metrics=[\"accuracy\"])\n",
        "\n",
        "# Set a learning rate annealer\n",
        "learning_rate_reduction = ReduceLROnPlateau(monitor='val_acc', \n",
        "                                            patience=3, \n",
        "                                            verbose=1, \n",
        "                                            factor=0.5, \n",
        "                                            min_lr=0.00001)"
      ],
      "execution_count": 0,
      "outputs": []
    },
    {
      "cell_type": "code",
      "metadata": {
        "id": "YhiWcLO0Ijs-",
        "colab_type": "code",
        "colab": {}
      },
      "source": [
        "# With data augmentation to prevent overfitting \n",
        "\n",
        "datagen = ImageDataGenerator(\n",
        "        featurewise_center=False,  # set input mean to 0 over the dataset\n",
        "        samplewise_center=False,  # set each sample mean to 0\n",
        "        featurewise_std_normalization=False,  # divide inputs by std of the dataset\n",
        "        samplewise_std_normalization=False,  # divide each input by its std\n",
        "        zca_whitening=False,  # apply ZCA whitening\n",
        "        rotation_range=10,  # randomly rotate images in the range (degrees, 0 to 180)\n",
        "        zoom_range = 0.1, # Randomly zoom image \n",
        "        width_shift_range=0.1,  # randomly shift images horizontally (fraction of total width)\n",
        "        height_shift_range=0.1,  # randomly shift images vertically (fraction of total height)\n",
        "        horizontal_flip=False,  # randomly flip images\n",
        "        vertical_flip=False)  # randomly flip images\n",
        "\n",
        "datagen.fit(x_train)"
      ],
      "execution_count": 0,
      "outputs": []
    },
    {
      "cell_type": "code",
      "metadata": {
        "id": "ILstKGT1IoJo",
        "colab_type": "code",
        "outputId": "39afc57d-f8ce-492c-de85-10cc10ac0373",
        "colab": {
          "base_uri": "https://localhost:8080/",
          "height": 1000
        }
      },
      "source": [
        "# Fitting the model\n",
        "#small batch size is more efficiently for training\n",
        "\n",
        "epochs = 50 \n",
        "batch_size = 10\n",
        "history = model.fit_generator(datagen.flow(x_train,y_train, batch_size=batch_size),\n",
        "                              epochs = epochs, validation_data = (x_validate,y_validate),\n",
        "                              verbose = 1, steps_per_epoch=x_train.shape[0] // batch_size\n",
        "                              , callbacks=[learning_rate_reduction])"
      ],
      "execution_count": 0,
      "outputs": [
        {
          "output_type": "stream",
          "text": [
            "Epoch 1/50\n",
            "721/721 [==============================] - 16s 22ms/step - loss: 0.5505 - acc: 0.7922 - val_loss: 0.6360 - val_acc: 0.7731\n",
            "Epoch 2/50\n",
            "721/721 [==============================] - 16s 22ms/step - loss: 0.5408 - acc: 0.7968 - val_loss: 0.6366 - val_acc: 0.7693\n",
            "Epoch 3/50\n",
            "721/721 [==============================] - 16s 22ms/step - loss: 0.5360 - acc: 0.7954 - val_loss: 0.6377 - val_acc: 0.7693\n",
            "Epoch 4/50\n",
            "721/721 [==============================] - 16s 22ms/step - loss: 0.5410 - acc: 0.8014 - val_loss: 0.6392 - val_acc: 0.7668\n",
            "Epoch 5/50\n",
            "721/721 [==============================] - 16s 22ms/step - loss: 0.5448 - acc: 0.7922 - val_loss: 0.6374 - val_acc: 0.7668\n",
            "Epoch 6/50\n",
            "721/721 [==============================] - 16s 22ms/step - loss: 0.5460 - acc: 0.7910 - val_loss: 0.6368 - val_acc: 0.7668\n",
            "Epoch 7/50\n",
            "721/721 [==============================] - 16s 22ms/step - loss: 0.5391 - acc: 0.7951 - val_loss: 0.6371 - val_acc: 0.7693\n",
            "Epoch 8/50\n",
            "721/721 [==============================] - 16s 22ms/step - loss: 0.5449 - acc: 0.7949 - val_loss: 0.6371 - val_acc: 0.7681\n",
            "Epoch 9/50\n",
            "721/721 [==============================] - 16s 23ms/step - loss: 0.5504 - acc: 0.7940 - val_loss: 0.6384 - val_acc: 0.7643\n",
            "Epoch 10/50\n",
            "721/721 [==============================] - 16s 22ms/step - loss: 0.5445 - acc: 0.7925 - val_loss: 0.6384 - val_acc: 0.7643\n",
            "Epoch 11/50\n",
            "721/721 [==============================] - 16s 22ms/step - loss: 0.5376 - acc: 0.7986 - val_loss: 0.6373 - val_acc: 0.7681\n",
            "Epoch 12/50\n",
            "721/721 [==============================] - 16s 23ms/step - loss: 0.5445 - acc: 0.7961 - val_loss: 0.6384 - val_acc: 0.7668\n",
            "Epoch 13/50\n",
            "721/721 [==============================] - 16s 23ms/step - loss: 0.5321 - acc: 0.7978 - val_loss: 0.6376 - val_acc: 0.7643\n",
            "Epoch 14/50\n",
            "721/721 [==============================] - 17s 23ms/step - loss: 0.5413 - acc: 0.7946 - val_loss: 0.6358 - val_acc: 0.7681\n",
            "Epoch 15/50\n",
            "721/721 [==============================] - 17s 23ms/step - loss: 0.5473 - acc: 0.7911 - val_loss: 0.6388 - val_acc: 0.7681\n",
            "Epoch 16/50\n",
            "721/721 [==============================] - 17s 24ms/step - loss: 0.5459 - acc: 0.7915 - val_loss: 0.6349 - val_acc: 0.7681\n",
            "Epoch 17/50\n",
            "721/721 [==============================] - 17s 24ms/step - loss: 0.5405 - acc: 0.7960 - val_loss: 0.6371 - val_acc: 0.7668\n",
            "Epoch 18/50\n",
            "721/721 [==============================] - 18s 25ms/step - loss: 0.5408 - acc: 0.7967 - val_loss: 0.6361 - val_acc: 0.7668\n",
            "Epoch 19/50\n",
            "721/721 [==============================] - 17s 24ms/step - loss: 0.5347 - acc: 0.7982 - val_loss: 0.6380 - val_acc: 0.7681\n",
            "Epoch 20/50\n",
            "721/721 [==============================] - 18s 25ms/step - loss: 0.5399 - acc: 0.7890 - val_loss: 0.6382 - val_acc: 0.7643\n",
            "Epoch 21/50\n",
            "721/721 [==============================] - 18s 25ms/step - loss: 0.5370 - acc: 0.7965 - val_loss: 0.6377 - val_acc: 0.7668\n",
            "Epoch 22/50\n",
            "721/721 [==============================] - 17s 24ms/step - loss: 0.5385 - acc: 0.8004 - val_loss: 0.6337 - val_acc: 0.7668\n",
            "Epoch 23/50\n",
            "721/721 [==============================] - 18s 24ms/step - loss: 0.5372 - acc: 0.7982 - val_loss: 0.6350 - val_acc: 0.7656\n",
            "Epoch 24/50\n",
            "721/721 [==============================] - 18s 24ms/step - loss: 0.5473 - acc: 0.7910 - val_loss: 0.6325 - val_acc: 0.7656\n",
            "Epoch 25/50\n",
            "721/721 [==============================] - 18s 25ms/step - loss: 0.5418 - acc: 0.7938 - val_loss: 0.6350 - val_acc: 0.7693\n",
            "Epoch 26/50\n",
            "721/721 [==============================] - 17s 24ms/step - loss: 0.5425 - acc: 0.7943 - val_loss: 0.6367 - val_acc: 0.7706\n",
            "Epoch 27/50\n",
            "721/721 [==============================] - 17s 24ms/step - loss: 0.5415 - acc: 0.7925 - val_loss: 0.6334 - val_acc: 0.7681\n",
            "Epoch 28/50\n",
            "721/721 [==============================] - 17s 23ms/step - loss: 0.5423 - acc: 0.7969 - val_loss: 0.6348 - val_acc: 0.7706\n",
            "Epoch 29/50\n",
            "721/721 [==============================] - 17s 23ms/step - loss: 0.5415 - acc: 0.7953 - val_loss: 0.6352 - val_acc: 0.7718\n",
            "Epoch 30/50\n",
            "721/721 [==============================] - 17s 23ms/step - loss: 0.5330 - acc: 0.7974 - val_loss: 0.6335 - val_acc: 0.7668\n",
            "Epoch 31/50\n",
            "721/721 [==============================] - 16s 23ms/step - loss: 0.5436 - acc: 0.7935 - val_loss: 0.6345 - val_acc: 0.7693\n",
            "Epoch 32/50\n",
            "721/721 [==============================] - 17s 23ms/step - loss: 0.5453 - acc: 0.7954 - val_loss: 0.6350 - val_acc: 0.7681\n",
            "Epoch 33/50\n",
            "721/721 [==============================] - 17s 24ms/step - loss: 0.5288 - acc: 0.8031 - val_loss: 0.6359 - val_acc: 0.7681\n",
            "Epoch 34/50\n",
            "721/721 [==============================] - 17s 24ms/step - loss: 0.5332 - acc: 0.7989 - val_loss: 0.6345 - val_acc: 0.7693\n",
            "Epoch 35/50\n",
            "721/721 [==============================] - 17s 24ms/step - loss: 0.5329 - acc: 0.7978 - val_loss: 0.6355 - val_acc: 0.7693\n",
            "Epoch 36/50\n",
            "721/721 [==============================] - 18s 24ms/step - loss: 0.5289 - acc: 0.7974 - val_loss: 0.6364 - val_acc: 0.7731\n",
            "Epoch 37/50\n",
            "721/721 [==============================] - 18s 24ms/step - loss: 0.5425 - acc: 0.7969 - val_loss: 0.6383 - val_acc: 0.7706\n",
            "Epoch 38/50\n",
            "721/721 [==============================] - 18s 24ms/step - loss: 0.5431 - acc: 0.7957 - val_loss: 0.6345 - val_acc: 0.7706\n",
            "Epoch 39/50\n",
            "721/721 [==============================] - 18s 24ms/step - loss: 0.5368 - acc: 0.7963 - val_loss: 0.6360 - val_acc: 0.7706\n",
            "Epoch 40/50\n",
            "721/721 [==============================] - 17s 24ms/step - loss: 0.5280 - acc: 0.8037 - val_loss: 0.6360 - val_acc: 0.7668\n",
            "Epoch 41/50\n",
            "721/721 [==============================] - 17s 24ms/step - loss: 0.5394 - acc: 0.7935 - val_loss: 0.6376 - val_acc: 0.7668\n",
            "Epoch 42/50\n",
            "721/721 [==============================] - 17s 24ms/step - loss: 0.5479 - acc: 0.7914 - val_loss: 0.6354 - val_acc: 0.7643\n",
            "Epoch 43/50\n",
            "721/721 [==============================] - 18s 25ms/step - loss: 0.5410 - acc: 0.7983 - val_loss: 0.6320 - val_acc: 0.7693\n",
            "Epoch 44/50\n",
            "721/721 [==============================] - 18s 24ms/step - loss: 0.5348 - acc: 0.7951 - val_loss: 0.6359 - val_acc: 0.7693\n",
            "Epoch 45/50\n",
            "721/721 [==============================] - 18s 24ms/step - loss: 0.5390 - acc: 0.7967 - val_loss: 0.6385 - val_acc: 0.7681\n",
            "Epoch 46/50\n",
            "721/721 [==============================] - 17s 24ms/step - loss: 0.5398 - acc: 0.7990 - val_loss: 0.6355 - val_acc: 0.7681\n",
            "Epoch 47/50\n",
            "721/721 [==============================] - 17s 24ms/step - loss: 0.5417 - acc: 0.7968 - val_loss: 0.6335 - val_acc: 0.7693\n",
            "Epoch 48/50\n",
            "721/721 [==============================] - 17s 24ms/step - loss: 0.5328 - acc: 0.7968 - val_loss: 0.6367 - val_acc: 0.7668\n",
            "Epoch 49/50\n",
            "721/721 [==============================] - 17s 23ms/step - loss: 0.5371 - acc: 0.7974 - val_loss: 0.6374 - val_acc: 0.7681\n",
            "Epoch 50/50\n",
            "721/721 [==============================] - 17s 23ms/step - loss: 0.5369 - acc: 0.7981 - val_loss: 0.6388 - val_acc: 0.7731\n"
          ],
          "name": "stdout"
        }
      ]
    },
    {
      "cell_type": "code",
      "metadata": {
        "id": "0hQQwy--MLOL",
        "colab_type": "code",
        "outputId": "3ff81d3d-02c8-4af1-aa67-1838c181428c",
        "colab": {
          "base_uri": "https://localhost:8080/",
          "height": 85
        }
      },
      "source": [
        "loss, accuracy = model.evaluate(x_test, y_test, verbose=1)\n",
        "loss_v, accuracy_v = model.evaluate(x_validate, y_validate, verbose=1)\n",
        "print(\"Validation: accuracy = %f  ;  loss_v = %f\" % (accuracy_v, loss_v))\n",
        "print(\"Test: accuracy = %f  ;  loss = %f\" % (accuracy, loss))\n",
        "model.save(\"appDermisModel.h5\")"
      ],
      "execution_count": 0,
      "outputs": [
        {
          "output_type": "stream",
          "text": [
            "2003/2003 [==============================] - 1s 259us/step\n",
            "802/802 [==============================] - 0s 219us/step\n",
            "Validation: accuracy = 0.773067  ;  loss_v = 0.638849\n",
            "Test: accuracy = 0.762356  ;  loss = 0.638496\n"
          ],
          "name": "stdout"
        }
      ]
    }
  ]
}