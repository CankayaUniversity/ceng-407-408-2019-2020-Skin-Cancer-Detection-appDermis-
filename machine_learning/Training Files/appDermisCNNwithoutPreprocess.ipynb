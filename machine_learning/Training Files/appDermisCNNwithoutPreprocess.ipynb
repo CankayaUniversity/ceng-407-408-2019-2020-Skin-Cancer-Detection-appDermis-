{
  "nbformat": 4,
  "nbformat_minor": 0,
  "metadata": {
    "colab": {
      "name": "appDermisCNNwithoutPreprocess.ipynb",
      "provenance": [],
      "collapsed_sections": []
    },
    "kernelspec": {
      "name": "python3",
      "display_name": "Python 3"
    },
    "accelerator": "GPU"
  },
  "cells": [
    {
      "cell_type": "code",
      "metadata": {
        "id": "TKqka55F60g3",
        "colab_type": "code",
        "outputId": "09ba0dad-8149-46f3-be3f-be6e4aed8331",
        "colab": {
          "base_uri": "https://localhost:8080/",
          "height": 122
        }
      },
      "source": [
        "#Mount Drive\n",
        "\n",
        "from google.colab import drive\n",
        "drive.mount(\"/content/drive\") "
      ],
      "execution_count": 0,
      "outputs": [
        {
          "output_type": "stream",
          "text": [
            "Go to this URL in a browser: https://accounts.google.com/o/oauth2/auth?client_id=947318989803-6bn6qk8qdgf4n4g3pfee6491hc0brc4i.apps.googleusercontent.com&redirect_uri=urn%3aietf%3awg%3aoauth%3a2.0%3aoob&response_type=code&scope=email%20https%3a%2f%2fwww.googleapis.com%2fauth%2fdocs.test%20https%3a%2f%2fwww.googleapis.com%2fauth%2fdrive%20https%3a%2f%2fwww.googleapis.com%2fauth%2fdrive.photos.readonly%20https%3a%2f%2fwww.googleapis.com%2fauth%2fpeopleapi.readonly\n",
            "\n",
            "Enter your authorization code:\n",
            "··········\n",
            "Mounted at /content/drive\n"
          ],
          "name": "stdout"
        }
      ]
    },
    {
      "cell_type": "code",
      "metadata": {
        "id": "6fQtlLVm7KJt",
        "colab_type": "code",
        "outputId": "8e7fdc3a-0ee9-46d6-f001-02b2e11c6b93",
        "colab": {
          "base_uri": "https://localhost:8080/",
          "height": 34
        }
      },
      "source": [
        "#Extract Zip Files\n",
        "\n",
        "from zipfile import ZipFile\n",
        "file_name = \"/content/drive/My Drive/Ham10000/HAM10000_images_part_1.zip\"\n",
        "\n",
        "with ZipFile(file_name,'r') as zip:\n",
        "  zip.extractall(\"/HAM10000_images_part_1\")\n",
        "  print('Done')"
      ],
      "execution_count": 0,
      "outputs": [
        {
          "output_type": "stream",
          "text": [
            "Done\n"
          ],
          "name": "stdout"
        }
      ]
    },
    {
      "cell_type": "code",
      "metadata": {
        "id": "dGFFBea67Kk2",
        "colab_type": "code",
        "outputId": "a53e76f5-eb75-498e-93ca-5ec91b2f8ce6",
        "colab": {
          "base_uri": "https://localhost:8080/",
          "height": 34
        }
      },
      "source": [
        "from zipfile import ZipFile\n",
        "file_name = \"/content/drive/My Drive/Ham10000/HAM10000_images_part_2.zip\"\n",
        "\n",
        "with ZipFile(file_name,'r') as zip:\n",
        "  zip.extractall(\"/HAM10000_images_part_2\")\n",
        "  print('Done')"
      ],
      "execution_count": 0,
      "outputs": [
        {
          "output_type": "stream",
          "text": [
            "Done\n"
          ],
          "name": "stdout"
        }
      ]
    },
    {
      "cell_type": "code",
      "metadata": {
        "id": "zCjZTkOM75J1",
        "colab_type": "code",
        "colab": {}
      },
      "source": [
        "#Libraries\n",
        "\n",
        "import matplotlib.pyplot as plt\n",
        "import numpy as np\n",
        "import pandas as pd\n",
        "import os\n",
        "from glob import glob\n",
        "import seaborn as sns\n",
        "from PIL import Image\n",
        "np.random.seed(123)\n",
        "from sklearn.preprocessing import label_binarize\n",
        "import itertools\n",
        "\n",
        "import keras\n",
        "from keras.utils.np_utils import to_categorical \n",
        "from keras.models import Sequential\n",
        "from keras.layers import Dense, Dropout, Flatten, Conv2D, MaxPool2D\n",
        "from keras import backend as K\n",
        "import itertools\n",
        "from keras.layers.normalization import BatchNormalization\n",
        "from keras.utils.np_utils import to_categorical \n",
        "\n",
        "from keras.optimizers import Adam\n",
        "from keras.optimizers import Adamax\n",
        "from keras.preprocessing.image import ImageDataGenerator\n",
        "from keras.callbacks import ReduceLROnPlateau\n",
        "from sklearn.model_selection import train_test_split"
      ],
      "execution_count": 0,
      "outputs": []
    },
    {
      "cell_type": "code",
      "metadata": {
        "id": "gFjWaZMT8X9k",
        "colab_type": "code",
        "colab": {}
      },
      "source": [
        "#Making Dictionary of images and labels\n",
        "\n",
        "base_skin_dir = os.path.join('/base_skin_dir','input')\n",
        "\n",
        "imageid_path_dict = {os.path.splitext(os.path.basename(x))[0]: x\n",
        "                     for x in glob(os.path.join(base_skin_dir, '*', '*.jpg'))}\n",
        "\n",
        "lesion_type_dict = {\n",
        "    'nv': 'Melanocytic nevi',\n",
        "    'mel': 'Melanoma',  #cancer\n",
        "    'bkl': 'Benign keratosis-like lesions ',\n",
        "    'bcc': 'Basal cell carcinoma',  #cancer\n",
        "    'akiec': 'Actinic keratoses',   #pre-cancer\n",
        "    'vasc': 'Vascular lesions',\n",
        "    'df': 'Dermatofibroma'\n",
        "}"
      ],
      "execution_count": 0,
      "outputs": []
    },
    {
      "cell_type": "code",
      "metadata": {
        "id": "WAauwQzO9RgU",
        "colab_type": "code",
        "outputId": "b1676c44-29a0-48ab-b659-1ebef89c0371",
        "colab": {
          "base_uri": "https://localhost:8080/",
          "height": 394
        }
      },
      "source": [
        "#Reading & Processing data\n",
        "\n",
        "skin_df = pd.read_csv(os.path.join(base_skin_dir, '/base_skin_dir/HAM10000_metadata.csv'))\n",
        "\n",
        "# We have read the csv by adding the path of the image file\n",
        "skin_df['path'] = skin_df['image_id'].map(imageid_path_dict.get)\n",
        "skin_df['cell_type'] = skin_df['dx'].map(lesion_type_dict.get) \n",
        "\n",
        "# We have categorized the lesion type into codes from 0 to 6\n",
        "skin_df['cell_type_idx'] = pd.Categorical(skin_df['cell_type']).codes\n",
        "\n",
        "# head() function shows first 5 rows.\n",
        "skin_df.head()"
      ],
      "execution_count": 0,
      "outputs": [
        {
          "output_type": "execute_result",
          "data": {
            "text/html": [
              "<div>\n",
              "<style scoped>\n",
              "    .dataframe tbody tr th:only-of-type {\n",
              "        vertical-align: middle;\n",
              "    }\n",
              "\n",
              "    .dataframe tbody tr th {\n",
              "        vertical-align: top;\n",
              "    }\n",
              "\n",
              "    .dataframe thead th {\n",
              "        text-align: right;\n",
              "    }\n",
              "</style>\n",
              "<table border=\"1\" class=\"dataframe\">\n",
              "  <thead>\n",
              "    <tr style=\"text-align: right;\">\n",
              "      <th></th>\n",
              "      <th>lesion_id</th>\n",
              "      <th>image_id</th>\n",
              "      <th>dx</th>\n",
              "      <th>dx_type</th>\n",
              "      <th>age</th>\n",
              "      <th>sex</th>\n",
              "      <th>localization</th>\n",
              "      <th>path</th>\n",
              "      <th>cell_type</th>\n",
              "      <th>cell_type_idx</th>\n",
              "    </tr>\n",
              "  </thead>\n",
              "  <tbody>\n",
              "    <tr>\n",
              "      <th>0</th>\n",
              "      <td>HAM_0000118</td>\n",
              "      <td>ISIC_0027419</td>\n",
              "      <td>bkl</td>\n",
              "      <td>histo</td>\n",
              "      <td>80.0</td>\n",
              "      <td>male</td>\n",
              "      <td>scalp</td>\n",
              "      <td>/base_skin_dir/input/HAM10000_images_part_1/IS...</td>\n",
              "      <td>Benign keratosis-like lesions</td>\n",
              "      <td>2</td>\n",
              "    </tr>\n",
              "    <tr>\n",
              "      <th>1</th>\n",
              "      <td>HAM_0000118</td>\n",
              "      <td>ISIC_0025030</td>\n",
              "      <td>bkl</td>\n",
              "      <td>histo</td>\n",
              "      <td>80.0</td>\n",
              "      <td>male</td>\n",
              "      <td>scalp</td>\n",
              "      <td>/base_skin_dir/input/HAM10000_images_part_1/IS...</td>\n",
              "      <td>Benign keratosis-like lesions</td>\n",
              "      <td>2</td>\n",
              "    </tr>\n",
              "    <tr>\n",
              "      <th>2</th>\n",
              "      <td>HAM_0002730</td>\n",
              "      <td>ISIC_0026769</td>\n",
              "      <td>bkl</td>\n",
              "      <td>histo</td>\n",
              "      <td>80.0</td>\n",
              "      <td>male</td>\n",
              "      <td>scalp</td>\n",
              "      <td>/base_skin_dir/input/HAM10000_images_part_1/IS...</td>\n",
              "      <td>Benign keratosis-like lesions</td>\n",
              "      <td>2</td>\n",
              "    </tr>\n",
              "    <tr>\n",
              "      <th>3</th>\n",
              "      <td>HAM_0002730</td>\n",
              "      <td>ISIC_0025661</td>\n",
              "      <td>bkl</td>\n",
              "      <td>histo</td>\n",
              "      <td>80.0</td>\n",
              "      <td>male</td>\n",
              "      <td>scalp</td>\n",
              "      <td>/base_skin_dir/input/HAM10000_images_part_1/IS...</td>\n",
              "      <td>Benign keratosis-like lesions</td>\n",
              "      <td>2</td>\n",
              "    </tr>\n",
              "    <tr>\n",
              "      <th>4</th>\n",
              "      <td>HAM_0001466</td>\n",
              "      <td>ISIC_0031633</td>\n",
              "      <td>bkl</td>\n",
              "      <td>histo</td>\n",
              "      <td>75.0</td>\n",
              "      <td>male</td>\n",
              "      <td>ear</td>\n",
              "      <td>/base_skin_dir/input/HAM10000_images_part_2/IS...</td>\n",
              "      <td>Benign keratosis-like lesions</td>\n",
              "      <td>2</td>\n",
              "    </tr>\n",
              "  </tbody>\n",
              "</table>\n",
              "</div>"
            ],
            "text/plain": [
              "     lesion_id      image_id  ...                       cell_type cell_type_idx\n",
              "0  HAM_0000118  ISIC_0027419  ...  Benign keratosis-like lesions              2\n",
              "1  HAM_0000118  ISIC_0025030  ...  Benign keratosis-like lesions              2\n",
              "2  HAM_0002730  ISIC_0026769  ...  Benign keratosis-like lesions              2\n",
              "3  HAM_0002730  ISIC_0025661  ...  Benign keratosis-like lesions              2\n",
              "4  HAM_0001466  ISIC_0031633  ...  Benign keratosis-like lesions              2\n",
              "\n",
              "[5 rows x 10 columns]"
            ]
          },
          "metadata": {
            "tags": []
          },
          "execution_count": 6
        }
      ]
    },
    {
      "cell_type": "code",
      "metadata": {
        "id": "cOntwx1eFSOq",
        "colab_type": "code",
        "colab": {}
      },
      "source": [
        "# Resizing of images\n",
        "#The original dimension of images are 450 x 600 x3 which TensorFlow can't handle, so that’s why we resize it into 100 x 75\n",
        "\n",
        "skin_df['image'] = skin_df['path'].map(lambda x: np.asarray(Image.open(x).resize((100,75))))\n"
      ],
      "execution_count": 0,
      "outputs": []
    },
    {
      "cell_type": "code",
      "metadata": {
        "id": "0wveA39JGLyb",
        "colab_type": "code",
        "outputId": "23efac6a-e3c3-42cf-9827-5025fd76b44d",
        "colab": {
          "base_uri": "https://localhost:8080/",
          "height": 887
        }
      },
      "source": [
        "skin_df.head()"
      ],
      "execution_count": 0,
      "outputs": [
        {
          "output_type": "execute_result",
          "data": {
            "text/html": [
              "<div>\n",
              "<style scoped>\n",
              "    .dataframe tbody tr th:only-of-type {\n",
              "        vertical-align: middle;\n",
              "    }\n",
              "\n",
              "    .dataframe tbody tr th {\n",
              "        vertical-align: top;\n",
              "    }\n",
              "\n",
              "    .dataframe thead th {\n",
              "        text-align: right;\n",
              "    }\n",
              "</style>\n",
              "<table border=\"1\" class=\"dataframe\">\n",
              "  <thead>\n",
              "    <tr style=\"text-align: right;\">\n",
              "      <th></th>\n",
              "      <th>lesion_id</th>\n",
              "      <th>image_id</th>\n",
              "      <th>dx</th>\n",
              "      <th>dx_type</th>\n",
              "      <th>age</th>\n",
              "      <th>sex</th>\n",
              "      <th>localization</th>\n",
              "      <th>path</th>\n",
              "      <th>cell_type</th>\n",
              "      <th>cell_type_idx</th>\n",
              "      <th>image</th>\n",
              "    </tr>\n",
              "  </thead>\n",
              "  <tbody>\n",
              "    <tr>\n",
              "      <th>0</th>\n",
              "      <td>HAM_0000118</td>\n",
              "      <td>ISIC_0027419</td>\n",
              "      <td>bkl</td>\n",
              "      <td>histo</td>\n",
              "      <td>80.0</td>\n",
              "      <td>male</td>\n",
              "      <td>scalp</td>\n",
              "      <td>/base_skin_dir/input/HAM10000_images_part_1/IS...</td>\n",
              "      <td>Benign keratosis-like lesions</td>\n",
              "      <td>2</td>\n",
              "      <td>[[[190, 153, 194], [192, 154, 196], [191, 153,...</td>\n",
              "    </tr>\n",
              "    <tr>\n",
              "      <th>1</th>\n",
              "      <td>HAM_0000118</td>\n",
              "      <td>ISIC_0025030</td>\n",
              "      <td>bkl</td>\n",
              "      <td>histo</td>\n",
              "      <td>80.0</td>\n",
              "      <td>male</td>\n",
              "      <td>scalp</td>\n",
              "      <td>/base_skin_dir/input/HAM10000_images_part_1/IS...</td>\n",
              "      <td>Benign keratosis-like lesions</td>\n",
              "      <td>2</td>\n",
              "      <td>[[[23, 13, 22], [24, 14, 24], [25, 14, 28], [3...</td>\n",
              "    </tr>\n",
              "    <tr>\n",
              "      <th>2</th>\n",
              "      <td>HAM_0002730</td>\n",
              "      <td>ISIC_0026769</td>\n",
              "      <td>bkl</td>\n",
              "      <td>histo</td>\n",
              "      <td>80.0</td>\n",
              "      <td>male</td>\n",
              "      <td>scalp</td>\n",
              "      <td>/base_skin_dir/input/HAM10000_images_part_1/IS...</td>\n",
              "      <td>Benign keratosis-like lesions</td>\n",
              "      <td>2</td>\n",
              "      <td>[[[185, 127, 137], [189, 133, 147], [194, 136,...</td>\n",
              "    </tr>\n",
              "    <tr>\n",
              "      <th>3</th>\n",
              "      <td>HAM_0002730</td>\n",
              "      <td>ISIC_0025661</td>\n",
              "      <td>bkl</td>\n",
              "      <td>histo</td>\n",
              "      <td>80.0</td>\n",
              "      <td>male</td>\n",
              "      <td>scalp</td>\n",
              "      <td>/base_skin_dir/input/HAM10000_images_part_1/IS...</td>\n",
              "      <td>Benign keratosis-like lesions</td>\n",
              "      <td>2</td>\n",
              "      <td>[[[24, 11, 17], [26, 13, 22], [38, 21, 32], [5...</td>\n",
              "    </tr>\n",
              "    <tr>\n",
              "      <th>4</th>\n",
              "      <td>HAM_0001466</td>\n",
              "      <td>ISIC_0031633</td>\n",
              "      <td>bkl</td>\n",
              "      <td>histo</td>\n",
              "      <td>75.0</td>\n",
              "      <td>male</td>\n",
              "      <td>ear</td>\n",
              "      <td>/base_skin_dir/input/HAM10000_images_part_2/IS...</td>\n",
              "      <td>Benign keratosis-like lesions</td>\n",
              "      <td>2</td>\n",
              "      <td>[[[134, 90, 113], [147, 102, 125], [159, 115, ...</td>\n",
              "    </tr>\n",
              "  </tbody>\n",
              "</table>\n",
              "</div>"
            ],
            "text/plain": [
              "     lesion_id  ...                                              image\n",
              "0  HAM_0000118  ...  [[[190, 153, 194], [192, 154, 196], [191, 153,...\n",
              "1  HAM_0000118  ...  [[[23, 13, 22], [24, 14, 24], [25, 14, 28], [3...\n",
              "2  HAM_0002730  ...  [[[185, 127, 137], [189, 133, 147], [194, 136,...\n",
              "3  HAM_0002730  ...  [[[24, 11, 17], [26, 13, 22], [38, 21, 32], [5...\n",
              "4  HAM_0001466  ...  [[[134, 90, 113], [147, 102, 125], [159, 115, ...\n",
              "\n",
              "[5 rows x 11 columns]"
            ]
          },
          "metadata": {
            "tags": []
          },
          "execution_count": 8
        }
      ]
    },
    {
      "cell_type": "code",
      "metadata": {
        "id": "Onj_7RWdH8Nt",
        "colab_type": "code",
        "colab": {}
      },
      "source": [
        "#We have specified features(inputs) columns without the cell_type_idx column. The cell_type_idx column is the column we want to predict. It will be output.\n",
        "\n",
        "features=skin_df.drop(columns=['cell_type_idx'],axis=1)\n",
        "\n",
        "target=skin_df['cell_type_idx']"
      ],
      "execution_count": 0,
      "outputs": []
    },
    {
      "cell_type": "code",
      "metadata": {
        "id": "8NKh1N7mIBat",
        "colab_type": "code",
        "colab": {}
      },
      "source": [
        "#We have split the dataset into training and testing set in the ratio of 80:20.\n",
        "\n",
        "x_train_o, x_test_o, y_train_o, y_test_o = train_test_split(features, target, test_size=0.20,random_state=123)\n"
      ],
      "execution_count": 0,
      "outputs": []
    },
    {
      "cell_type": "code",
      "metadata": {
        "id": "zxMqZQ_lIICO",
        "colab_type": "code",
        "colab": {}
      },
      "source": [
        "#Normalization with z-score normalization.\n",
        "\n",
        "x_train = np.asarray(x_train_o['image'].tolist())\n",
        "x_test = np.asarray(x_test_o['image'].tolist())\n",
        "\n",
        "x_train_mean = np.mean(x_train)\n",
        "x_train_std = np.std(x_train)\n",
        "\n",
        "x_test_mean = np.mean(x_test)\n",
        "x_test_std = np.std(x_test)\n",
        "\n",
        "x_train = (x_train - x_train_mean)/x_train_std\n",
        "x_test = (x_test - x_test_mean)/x_test_std"
      ],
      "execution_count": 0,
      "outputs": []
    },
    {
      "cell_type": "code",
      "metadata": {
        "id": "jPttDvY-ILfU",
        "colab_type": "code",
        "colab": {}
      },
      "source": [
        "# Perform one-hot encoding on the labels\n",
        "\n",
        "# We will encode labels which are 7 different classes of skin cancer types from 0 to 6\n",
        "y_train = to_categorical(y_train_o, num_classes = 7)\n",
        "y_test = to_categorical(y_test_o, num_classes = 7)"
      ],
      "execution_count": 0,
      "outputs": []
    },
    {
      "cell_type": "code",
      "metadata": {
        "id": "LKAouHscIPCX",
        "colab_type": "code",
        "colab": {}
      },
      "source": [
        "# We split the train data set as validation set and train set in the ratio of 90:10.\n",
        "# Validation set is used to prevent overfitting\n",
        "x_train, x_validate, y_train, y_validate = train_test_split(x_train, y_train, test_size = 0.1, random_state = 2)\n"
      ],
      "execution_count": 0,
      "outputs": []
    },
    {
      "cell_type": "code",
      "metadata": {
        "id": "eykI-RmTITJG",
        "colab_type": "code",
        "colab": {}
      },
      "source": [
        "# Reshape image in 3 dimensions (height = 75px, width = 100px , canal = 3)\n",
        "x_train = x_train.reshape(x_train.shape[0], *(75, 100, 3))\n",
        "x_test = x_test.reshape(x_test.shape[0], *(75, 100, 3))\n",
        "x_validate = x_validate.reshape(x_validate.shape[0], *(75, 100, 3))"
      ],
      "execution_count": 0,
      "outputs": []
    },
    {
      "cell_type": "code",
      "metadata": {
        "id": "fgMpKGLJIX-l",
        "colab_type": "code",
        "outputId": "17db967a-b43e-4cc9-d96d-0037a40dfe76",
        "colab": {
          "base_uri": "https://localhost:8080/",
          "height": 561
        }
      },
      "source": [
        "#Model Building\n",
        "\n",
        "input_shape = (75, 100, 3)\n",
        "num_classes = 7\n",
        "\n",
        "model = Sequential()\n",
        "#Convolutional Layer\n",
        "model.add(Conv2D(32, kernel_size=(3, 3),activation='relu',padding = 'Same',input_shape=input_shape))\n",
        "model.add(Conv2D(32,kernel_size=(3, 3), activation='relu',padding = 'Same',))\n",
        "#Pooling Layer\n",
        "model.add(MaxPool2D(pool_size = (2, 2)))\n",
        "#Dropout Layer\n",
        "model.add(Dropout(0.25))\n",
        "\n",
        "model.add(Conv2D(64, (3, 3), activation='relu',padding = 'Same'))\n",
        "model.add(Conv2D(64, (3, 3), activation='relu',padding = 'Same'))\n",
        "model.add(MaxPool2D(pool_size=(2, 2)))\n",
        "model.add(Dropout(0.40))\n",
        "\n",
        "#Flattening Layer\n",
        "model.add(Flatten())\n",
        "model.add(Dense(128, activation='relu'))\n",
        "model.add(Dropout(0.5))\n",
        "model.add(Dense(num_classes, activation='softmax'))\n",
        "model.summary()"
      ],
      "execution_count": 0,
      "outputs": [
        {
          "output_type": "stream",
          "text": [
            "Model: \"sequential_1\"\n",
            "_________________________________________________________________\n",
            "Layer (type)                 Output Shape              Param #   \n",
            "=================================================================\n",
            "conv2d_1 (Conv2D)            (None, 75, 100, 32)       896       \n",
            "_________________________________________________________________\n",
            "conv2d_2 (Conv2D)            (None, 75, 100, 32)       9248      \n",
            "_________________________________________________________________\n",
            "max_pooling2d_1 (MaxPooling2 (None, 37, 50, 32)        0         \n",
            "_________________________________________________________________\n",
            "dropout_1 (Dropout)          (None, 37, 50, 32)        0         \n",
            "_________________________________________________________________\n",
            "conv2d_3 (Conv2D)            (None, 37, 50, 64)        18496     \n",
            "_________________________________________________________________\n",
            "conv2d_4 (Conv2D)            (None, 37, 50, 64)        36928     \n",
            "_________________________________________________________________\n",
            "max_pooling2d_2 (MaxPooling2 (None, 18, 25, 64)        0         \n",
            "_________________________________________________________________\n",
            "dropout_2 (Dropout)          (None, 18, 25, 64)        0         \n",
            "_________________________________________________________________\n",
            "flatten_1 (Flatten)          (None, 28800)             0         \n",
            "_________________________________________________________________\n",
            "dense_1 (Dense)              (None, 128)               3686528   \n",
            "_________________________________________________________________\n",
            "dropout_3 (Dropout)          (None, 128)               0         \n",
            "_________________________________________________________________\n",
            "dense_2 (Dense)              (None, 7)                 903       \n",
            "=================================================================\n",
            "Total params: 3,752,999\n",
            "Trainable params: 3,752,999\n",
            "Non-trainable params: 0\n",
            "_________________________________________________________________\n"
          ],
          "name": "stdout"
        }
      ]
    },
    {
      "cell_type": "code",
      "metadata": {
        "id": "UdsdkuPzIfwV",
        "colab_type": "code",
        "colab": {}
      },
      "source": [
        "# Define the optimizer\n",
        "#Optimizer=rate of train, \n",
        "optimizer = Adamax(lr=0.001)\n",
        "\n",
        "# Compile the model\n",
        "#categorical_crossentropy for classification\n",
        "#accuracy is used to evaluate the performance our model\n",
        "model.compile(optimizer = optimizer , loss = \"categorical_crossentropy\", metrics=[\"accuracy\"])\n",
        "\n",
        "# Set a learning rate annealer\n",
        "learning_rate_reduction = ReduceLROnPlateau(monitor='val_acc', \n",
        "                                            patience=3, \n",
        "                                            verbose=1, \n",
        "                                            factor=0.5, \n",
        "                                            min_lr=0.00001)"
      ],
      "execution_count": 0,
      "outputs": []
    },
    {
      "cell_type": "code",
      "metadata": {
        "id": "YhiWcLO0Ijs-",
        "colab_type": "code",
        "colab": {}
      },
      "source": [
        "# With data augmentation to prevent overfitting \n",
        "\n",
        "datagen = ImageDataGenerator(\n",
        "        featurewise_center=False,  # set input mean to 0 over the dataset\n",
        "        samplewise_center=False,  # set each sample mean to 0\n",
        "        featurewise_std_normalization=False,  # divide inputs by std of the dataset\n",
        "        samplewise_std_normalization=False,  # divide each input by its std\n",
        "        zca_whitening=False,  # apply ZCA whitening\n",
        "        rotation_range=10,  # randomly rotate images in the range (degrees, 0 to 180)\n",
        "        zoom_range = 0.1, # Randomly zoom image \n",
        "        width_shift_range=0.1,  # randomly shift images horizontally (fraction of total width)\n",
        "        height_shift_range=0.1,  # randomly shift images vertically (fraction of total height)\n",
        "        horizontal_flip=False,  # randomly flip images\n",
        "        vertical_flip=False)  # randomly flip images\n",
        "\n",
        "datagen.fit(x_train)"
      ],
      "execution_count": 0,
      "outputs": []
    },
    {
      "cell_type": "code",
      "metadata": {
        "id": "ILstKGT1IoJo",
        "colab_type": "code",
        "outputId": "673d6343-e2ab-4cb5-bd2a-7dd7b149fd2c",
        "colab": {
          "base_uri": "https://localhost:8080/",
          "height": 1000
        }
      },
      "source": [
        "# Fitting the model\n",
        "#small batch size is more efficiently for training\n",
        "\n",
        "epochs = 50 \n",
        "batch_size = 10\n",
        "history = model.fit_generator(datagen.flow(x_train,y_train, batch_size=batch_size),\n",
        "                              epochs = epochs, validation_data = (x_validate,y_validate),\n",
        "                              verbose = 1, steps_per_epoch=x_train.shape[0] // batch_size\n",
        "                              , callbacks=[learning_rate_reduction])"
      ],
      "execution_count": 0,
      "outputs": [
        {
          "output_type": "stream",
          "text": [
            "Epoch 1/50\n",
            "721/721 [==============================] - 23s 32ms/step - loss: 0.9786 - accuracy: 0.6700 - val_loss: 0.9170 - val_accuracy: 0.6658\n",
            "Epoch 2/50\n",
            " 16/721 [..............................] - ETA: 8s - loss: 0.8979 - accuracy: 0.6500"
          ],
          "name": "stdout"
        },
        {
          "output_type": "stream",
          "text": [
            "/usr/local/lib/python3.6/dist-packages/keras/callbacks/callbacks.py:1042: RuntimeWarning: Reduce LR on plateau conditioned on metric `val_acc` which is not available. Available metrics are: val_loss,val_accuracy,loss,accuracy,lr\n",
            "  (self.monitor, ','.join(list(logs.keys()))), RuntimeWarning\n"
          ],
          "name": "stderr"
        },
        {
          "output_type": "stream",
          "text": [
            "721/721 [==============================] - 16s 22ms/step - loss: 0.8624 - accuracy: 0.6782 - val_loss: 0.8182 - val_accuracy: 0.7007\n",
            "Epoch 3/50\n",
            "721/721 [==============================] - 16s 22ms/step - loss: 0.8121 - accuracy: 0.6978 - val_loss: 0.8053 - val_accuracy: 0.6933\n",
            "Epoch 4/50\n",
            "721/721 [==============================] - 16s 22ms/step - loss: 0.7798 - accuracy: 0.7173 - val_loss: 0.7967 - val_accuracy: 0.7032\n",
            "Epoch 5/50\n",
            "721/721 [==============================] - 16s 22ms/step - loss: 0.7589 - accuracy: 0.7212 - val_loss: 0.7502 - val_accuracy: 0.7157\n",
            "Epoch 6/50\n",
            "721/721 [==============================] - 16s 22ms/step - loss: 0.7368 - accuracy: 0.7318 - val_loss: 0.7372 - val_accuracy: 0.7307\n",
            "Epoch 7/50\n",
            "721/721 [==============================] - 16s 22ms/step - loss: 0.7257 - accuracy: 0.7302 - val_loss: 0.7581 - val_accuracy: 0.7419\n",
            "Epoch 8/50\n",
            "721/721 [==============================] - 16s 22ms/step - loss: 0.7181 - accuracy: 0.7333 - val_loss: 0.7311 - val_accuracy: 0.7207\n",
            "Epoch 9/50\n",
            "721/721 [==============================] - 16s 22ms/step - loss: 0.6932 - accuracy: 0.7429 - val_loss: 0.7035 - val_accuracy: 0.7382\n",
            "Epoch 10/50\n",
            "721/721 [==============================] - 16s 22ms/step - loss: 0.6926 - accuracy: 0.7519 - val_loss: 0.7376 - val_accuracy: 0.7269\n",
            "Epoch 11/50\n",
            "721/721 [==============================] - 16s 22ms/step - loss: 0.6736 - accuracy: 0.7517 - val_loss: 0.6712 - val_accuracy: 0.7444\n",
            "Epoch 12/50\n",
            "721/721 [==============================] - 16s 22ms/step - loss: 0.6654 - accuracy: 0.7506 - val_loss: 0.6717 - val_accuracy: 0.7394\n",
            "Epoch 13/50\n",
            "721/721 [==============================] - 16s 22ms/step - loss: 0.6584 - accuracy: 0.7584 - val_loss: 0.6801 - val_accuracy: 0.7419\n",
            "Epoch 14/50\n",
            "721/721 [==============================] - 16s 22ms/step - loss: 0.6436 - accuracy: 0.7666 - val_loss: 0.6553 - val_accuracy: 0.7406\n",
            "Epoch 15/50\n",
            "721/721 [==============================] - 16s 22ms/step - loss: 0.6373 - accuracy: 0.7602 - val_loss: 0.6903 - val_accuracy: 0.7481\n",
            "Epoch 16/50\n",
            "721/721 [==============================] - 16s 22ms/step - loss: 0.6365 - accuracy: 0.7598 - val_loss: 0.6402 - val_accuracy: 0.7469\n",
            "Epoch 17/50\n",
            "721/721 [==============================] - 16s 22ms/step - loss: 0.6237 - accuracy: 0.7653 - val_loss: 0.6603 - val_accuracy: 0.7506\n",
            "Epoch 18/50\n",
            "721/721 [==============================] - 16s 22ms/step - loss: 0.6202 - accuracy: 0.7721 - val_loss: 0.6606 - val_accuracy: 0.7431\n",
            "Epoch 19/50\n",
            "721/721 [==============================] - 16s 22ms/step - loss: 0.6089 - accuracy: 0.7752 - val_loss: 0.6369 - val_accuracy: 0.7581\n",
            "Epoch 20/50\n",
            "721/721 [==============================] - 16s 22ms/step - loss: 0.6003 - accuracy: 0.7811 - val_loss: 0.6392 - val_accuracy: 0.7693\n",
            "Epoch 21/50\n",
            "721/721 [==============================] - 16s 22ms/step - loss: 0.6006 - accuracy: 0.7847 - val_loss: 0.6420 - val_accuracy: 0.7681\n",
            "Epoch 22/50\n",
            "721/721 [==============================] - 16s 22ms/step - loss: 0.5890 - accuracy: 0.7796 - val_loss: 0.6552 - val_accuracy: 0.7456\n",
            "Epoch 23/50\n",
            "721/721 [==============================] - 16s 23ms/step - loss: 0.5856 - accuracy: 0.7831 - val_loss: 0.6454 - val_accuracy: 0.7618\n",
            "Epoch 24/50\n",
            "721/721 [==============================] - 16s 22ms/step - loss: 0.5807 - accuracy: 0.7817 - val_loss: 0.6530 - val_accuracy: 0.7731\n",
            "Epoch 25/50\n",
            "721/721 [==============================] - 16s 23ms/step - loss: 0.5761 - accuracy: 0.7865 - val_loss: 0.6305 - val_accuracy: 0.7656\n",
            "Epoch 26/50\n",
            "721/721 [==============================] - 16s 23ms/step - loss: 0.5786 - accuracy: 0.7920 - val_loss: 0.6271 - val_accuracy: 0.7731\n",
            "Epoch 27/50\n",
            "721/721 [==============================] - 16s 22ms/step - loss: 0.5774 - accuracy: 0.7824 - val_loss: 0.6261 - val_accuracy: 0.7693\n",
            "Epoch 28/50\n",
            "721/721 [==============================] - 16s 22ms/step - loss: 0.5614 - accuracy: 0.7899 - val_loss: 0.6218 - val_accuracy: 0.7731\n",
            "Epoch 29/50\n",
            "721/721 [==============================] - 16s 23ms/step - loss: 0.5508 - accuracy: 0.7964 - val_loss: 0.6454 - val_accuracy: 0.7656\n",
            "Epoch 30/50\n",
            "721/721 [==============================] - 16s 23ms/step - loss: 0.5569 - accuracy: 0.7924 - val_loss: 0.6428 - val_accuracy: 0.7756\n",
            "Epoch 31/50\n",
            "721/721 [==============================] - 16s 22ms/step - loss: 0.5396 - accuracy: 0.8014 - val_loss: 0.6568 - val_accuracy: 0.7494\n",
            "Epoch 32/50\n",
            "721/721 [==============================] - 17s 23ms/step - loss: 0.5442 - accuracy: 0.7963 - val_loss: 0.6243 - val_accuracy: 0.7718\n",
            "Epoch 33/50\n",
            "721/721 [==============================] - 16s 23ms/step - loss: 0.5471 - accuracy: 0.8014 - val_loss: 0.6520 - val_accuracy: 0.7569\n",
            "Epoch 34/50\n",
            "721/721 [==============================] - 16s 23ms/step - loss: 0.5309 - accuracy: 0.8037 - val_loss: 0.6718 - val_accuracy: 0.7556\n",
            "Epoch 35/50\n",
            "721/721 [==============================] - 16s 22ms/step - loss: 0.5362 - accuracy: 0.7981 - val_loss: 0.6488 - val_accuracy: 0.7706\n",
            "Epoch 36/50\n",
            "721/721 [==============================] - 16s 22ms/step - loss: 0.5334 - accuracy: 0.8014 - val_loss: 0.6689 - val_accuracy: 0.7768\n",
            "Epoch 37/50\n",
            "721/721 [==============================] - 16s 23ms/step - loss: 0.5382 - accuracy: 0.8007 - val_loss: 0.6599 - val_accuracy: 0.7731\n",
            "Epoch 38/50\n",
            "721/721 [==============================] - 16s 22ms/step - loss: 0.5268 - accuracy: 0.8046 - val_loss: 0.6306 - val_accuracy: 0.7594\n",
            "Epoch 39/50\n",
            "721/721 [==============================] - 16s 22ms/step - loss: 0.5177 - accuracy: 0.8037 - val_loss: 0.6245 - val_accuracy: 0.7743\n",
            "Epoch 40/50\n",
            "721/721 [==============================] - 16s 22ms/step - loss: 0.5111 - accuracy: 0.8110 - val_loss: 0.6676 - val_accuracy: 0.7743\n",
            "Epoch 41/50\n",
            "721/721 [==============================] - 16s 22ms/step - loss: 0.5056 - accuracy: 0.8101 - val_loss: 0.6681 - val_accuracy: 0.7805\n",
            "Epoch 42/50\n",
            "721/721 [==============================] - 16s 23ms/step - loss: 0.5159 - accuracy: 0.8086 - val_loss: 0.6503 - val_accuracy: 0.7706\n",
            "Epoch 43/50\n",
            "721/721 [==============================] - 16s 22ms/step - loss: 0.5039 - accuracy: 0.8155 - val_loss: 0.6312 - val_accuracy: 0.7743\n",
            "Epoch 44/50\n",
            "721/721 [==============================] - 16s 22ms/step - loss: 0.5030 - accuracy: 0.8061 - val_loss: 0.6253 - val_accuracy: 0.7756\n",
            "Epoch 45/50\n",
            "721/721 [==============================] - 16s 22ms/step - loss: 0.5002 - accuracy: 0.8123 - val_loss: 0.6315 - val_accuracy: 0.7893\n",
            "Epoch 46/50\n",
            "721/721 [==============================] - 16s 22ms/step - loss: 0.5020 - accuracy: 0.8153 - val_loss: 0.6486 - val_accuracy: 0.7731\n",
            "Epoch 47/50\n",
            "721/721 [==============================] - 16s 23ms/step - loss: 0.4943 - accuracy: 0.8135 - val_loss: 0.6382 - val_accuracy: 0.7843\n",
            "Epoch 48/50\n",
            "721/721 [==============================] - 16s 22ms/step - loss: 0.4862 - accuracy: 0.8157 - val_loss: 0.6404 - val_accuracy: 0.7756\n",
            "Epoch 49/50\n",
            "721/721 [==============================] - 16s 22ms/step - loss: 0.4841 - accuracy: 0.8176 - val_loss: 0.6517 - val_accuracy: 0.7681\n",
            "Epoch 50/50\n",
            "721/721 [==============================] - 16s 22ms/step - loss: 0.4831 - accuracy: 0.8178 - val_loss: 0.6378 - val_accuracy: 0.7855\n"
          ],
          "name": "stdout"
        }
      ]
    },
    {
      "cell_type": "code",
      "metadata": {
        "id": "0hQQwy--MLOL",
        "colab_type": "code",
        "outputId": "f2cdb8c1-7d45-42be-fef0-02c52f56605a",
        "colab": {
          "base_uri": "https://localhost:8080/",
          "height": 85
        }
      },
      "source": [
        "loss, accuracy = model.evaluate(x_test, y_test, verbose=1)\n",
        "loss_v, accuracy_v = model.evaluate(x_validate, y_validate, verbose=1)\n",
        "print(\"Validation: accuracy = %f  ;  loss_v = %f\" % (accuracy_v, loss_v))\n",
        "print(\"Test: accuracy = %f  ;  loss = %f\" % (accuracy, loss))\n",
        "\n",
        "model.save_weights('appDermisModel.h5')\n",
        "\n",
        "with open('appDermisModel_architecture.json', 'w') as f:\n",
        "    f.write(model.to_json())"
      ],
      "execution_count": 0,
      "outputs": [
        {
          "output_type": "stream",
          "text": [
            "2003/2003 [==============================] - 1s 467us/step\n",
            "802/802 [==============================] - 0s 315us/step\n",
            "Validation: accuracy = 0.785536  ;  loss_v = 0.637819\n",
            "Test: accuracy = 0.766850  ;  loss = 0.630227\n"
          ],
          "name": "stdout"
        }
      ]
    }
  ]
}