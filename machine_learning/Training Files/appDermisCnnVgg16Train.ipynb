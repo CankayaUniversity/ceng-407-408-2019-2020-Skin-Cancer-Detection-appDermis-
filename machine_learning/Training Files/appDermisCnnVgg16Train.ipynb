{
  "nbformat": 4,
  "nbformat_minor": 0,
  "metadata": {
    "colab": {
      "name": "appDermisCnnVggTrain.ipynb",
      "provenance": [],
      "collapsed_sections": []
    },
    "kernelspec": {
      "name": "python3",
      "display_name": "Python 3"
    },
    "accelerator": "GPU"
  },
  "cells": [
    {
      "cell_type": "code",
      "metadata": {
        "id": "1Z-6RegteR3O",
        "colab_type": "code",
        "outputId": "d01aa239-3696-4826-c3c3-2c6606365d86",
        "colab": {
          "base_uri": "https://localhost:8080/",
          "height": 54
        }
      },
      "source": [
        "#Mount Drive\n",
        "\n",
        "from google.colab import drive\n",
        "drive.mount(\"/content/drive\") "
      ],
      "execution_count": 0,
      "outputs": [
        {
          "output_type": "stream",
          "text": [
            "Drive already mounted at /content/drive; to attempt to forcibly remount, call drive.mount(\"/content/drive\", force_remount=True).\n"
          ],
          "name": "stdout"
        }
      ]
    },
    {
      "cell_type": "code",
      "metadata": {
        "id": "wAz0AIXzeq10",
        "colab_type": "code",
        "outputId": "b9088386-b8bb-4512-e317-46528eb23d4c",
        "colab": {
          "base_uri": "https://localhost:8080/",
          "height": 34
        }
      },
      "source": [
        "#Extract Zip Files\n",
        "\n",
        "from zipfile import ZipFile\n",
        "file_name = \"/content/drive/My Drive/Ham10000/HamPart1.zip\"\n",
        "\n",
        "with ZipFile(file_name,'r') as zip:\n",
        "  zip.extractall(\"/Ham10000\")\n",
        "  print('Done')"
      ],
      "execution_count": 0,
      "outputs": [
        {
          "output_type": "stream",
          "text": [
            "Done\n"
          ],
          "name": "stdout"
        }
      ]
    },
    {
      "cell_type": "code",
      "metadata": {
        "id": "euBwwlPXfPYE",
        "colab_type": "code",
        "colab": {}
      },
      "source": [
        "import os\n",
        "import gc\n",
        "from PIL import Image\n",
        "import tensorflow\n",
        "\n",
        "import tqdm\n",
        "import numpy as np\n",
        "import seaborn as sns\n",
        "import pandas as pd\n",
        "from matplotlib import pyplot as plt\n",
        "from keras.models import Sequential\n",
        "from sklearn.model_selection import train_test_split\n",
        "from keras.preprocessing.image import ImageDataGenerator\n",
        "from keras.layers import Dense, Conv2D, MaxPooling2D, Flatten, Dropout, LeakyReLU\n",
        "from keras.applications import VGG16\n",
        "from sklearn.metrics import classification_report, confusion_matrix\n",
        "from sklearn.utils import check_random_state\n",
        "\n",
        "\n",
        "sns.set()\n",
        "np.random.seed(0);\n",
        "tensorflow.random.set_seed(0)\n",
        "check_random_state(0);"
      ],
      "execution_count": 0,
      "outputs": []
    },
    {
      "cell_type": "code",
      "metadata": {
        "id": "53TXDwzTfxlb",
        "colab_type": "code",
        "outputId": "630abe39-7cab-459a-e285-313b8fdc606e",
        "colab": {
          "base_uri": "https://localhost:8080/",
          "height": 68
        }
      },
      "source": [
        "train_imgs, test_imgs = [], []\n",
        "train_labels, test_labels = [], []\n",
        "\n",
        "for img_path in os.listdir('/Ham10000/Ham10000/train/benign'):\n",
        "    train_imgs.append('/Ham10000/Ham10000/train/benign/' + img_path)\n",
        "    train_labels.append(0)\n",
        "    \n",
        "for img_path in os.listdir('/Ham10000/Ham10000/train/malignant'):\n",
        "    train_imgs.append('/Ham10000/Ham10000/train/malignant/' + img_path)\n",
        "    train_labels.append(1)\n",
        "    \n",
        "for img_path in os.listdir('/Ham10000/Ham10000/test/benign'):\n",
        "    test_imgs.append('/Ham10000/Ham10000/test/benign/' + img_path)\n",
        "    test_labels.append(0)\n",
        "    \n",
        "for img_path in os.listdir('/Ham10000/Ham10000/test/malignant'):\n",
        "    test_imgs.append('/Ham10000/Ham10000/test/malignant/' + img_path)\n",
        "    test_labels.append(1)\n",
        "    \n",
        "train_imgs, test_imgs = np.array(train_imgs), np.array(test_imgs)\n",
        "train_labels, test_labels = np.array(train_labels), np.array(test_labels)\n",
        "    \n",
        "class_distribution = np.bincount(np.concatenate([train_labels, test_labels]))\n",
        "    \n",
        "print('Size of train set:', len(train_imgs))\n",
        "print('Size of test set:', len(test_imgs))\n",
        "print(class_distribution[0], 'benign labeled samples and', class_distribution[1], 'malignant')"
      ],
      "execution_count": 0,
      "outputs": [
        {
          "output_type": "stream",
          "text": [
            "Size of train set: 2637\n",
            "Size of test set: 660\n",
            "1800 benign labeled samples and 1497 malignant\n"
          ],
          "name": "stdout"
        }
      ]
    },
    {
      "cell_type": "code",
      "metadata": {
        "id": "ALfu6vzwgUYp",
        "colab_type": "code",
        "outputId": "025a7157-4b4c-480f-fbd5-e7c12f70dc3e",
        "colab": {
          "base_uri": "https://localhost:8080/",
          "height": 68
        }
      },
      "source": [
        "# Load the images to memory\n",
        "xtrain, xtest = [], []\n",
        "ytrain, ytest = train_labels, test_labels\n",
        "\n",
        "for filename in train_imgs:\n",
        "    xtrain.append(np.array(Image.open(filename)))\n",
        "    \n",
        "for filename in test_imgs:\n",
        "    xtest.append(np.array(Image.open(filename)))\n",
        "    \n",
        "del train_imgs, test_imgs, train_labels, test_labels\n",
        "xtrain, xtest = np.array(xtrain), np.array(xtest)\n",
        "\n",
        "# Merge and split train and test set to have more train data\n",
        "data = np.concatenate([xtrain, xtest])\n",
        "labels = np.concatenate([ytrain, ytest])\n",
        "\n",
        "# Spliting data to train, validation and test values\n",
        "xtrain, xtest, ytrain, ytest = train_test_split(data, labels, test_size=.2, random_state=0)\n",
        "xtra, xval, ytra, yval = train_test_split(xtrain, ytrain, test_size=.05, random_state=0, shuffle=False)\n",
        "\n",
        "gc.collect()\n",
        "print('Shape of the new train set:', xtra.shape)\n",
        "print('Shape of the new test set:', xtest.shape)\n",
        "print('Shape of the validation set:', xval.shape)"
      ],
      "execution_count": 0,
      "outputs": [
        {
          "output_type": "stream",
          "text": [
            "Shape of the new train set: (2505, 224, 224, 3)\n",
            "Shape of the new test set: (660, 224, 224, 3)\n",
            "Shape of the validation set: (132, 224, 224, 3)\n"
          ],
          "name": "stdout"
        }
      ]
    },
    {
      "cell_type": "code",
      "metadata": {
        "id": "IClYrXgwhEf3",
        "colab_type": "code",
        "outputId": "112fbb24-b20b-4935-bd80-4bc310ab990d",
        "colab": {
          "base_uri": "https://localhost:8080/",
          "height": 34
        }
      },
      "source": [
        "data_generator = ImageDataGenerator(rotation_range=90,\n",
        "                                    width_shift_range=0.15,\n",
        "                                    height_shift_range=0.15,\n",
        "                                    horizontal_flip=True,\n",
        "                                    vertical_flip=True,\n",
        "                                    brightness_range=[0.8, 1.1],\n",
        "                                    fill_mode='nearest')\n",
        "\n",
        "new_samples, new_labels = next(data_generator.flow(xtra, ytra, batch_size=len(xtra)))\n",
        "xtra = np.concatenate([xtra, new_samples])\n",
        "ytra = np.concatenate([ytra, new_labels])\n",
        "\n",
        "del new_samples, new_labels\n",
        "print('New number of training samples:', len(xtra))"
      ],
      "execution_count": 0,
      "outputs": [
        {
          "output_type": "stream",
          "text": [
            "New number of training samples: 5010\n"
          ],
          "name": "stdout"
        }
      ]
    },
    {
      "cell_type": "code",
      "metadata": {
        "id": "qFEsmi_XhSoq",
        "colab_type": "code",
        "outputId": "6818e4b3-036a-40c1-9a58-33ac92fde920",
        "colab": {
          "base_uri": "https://localhost:8080/",
          "height": 68
        }
      },
      "source": [
        "# Normalizing data to 0,1 range.\n",
        "xtra = xtra.astype('float32') / 255.\n",
        "xtest = xtest.astype('float32') / 255.\n",
        "xval = xval.astype('float32') / 255.\n",
        "\n",
        "print('Training data shape:', xtra.shape)\n",
        "print('Min value:', xtra.min())\n",
        "print('Max value:', xtra.max())"
      ],
      "execution_count": 0,
      "outputs": [
        {
          "output_type": "stream",
          "text": [
            "Training data shape: (5010, 224, 224, 3)\n",
            "Min value: 0.0\n",
            "Max value: 1.0\n"
          ],
          "name": "stdout"
        }
      ]
    },
    {
      "cell_type": "code",
      "metadata": {
        "id": "ow2MUkGehbWh",
        "colab_type": "code",
        "outputId": "1e6ea975-c0fe-4d0d-e8e6-cfdc3bae6ade",
        "colab": {
          "base_uri": "https://localhost:8080/",
          "height": 445
        }
      },
      "source": [
        "# Build the model\n",
        "model = Sequential()\n",
        "\n",
        "model.add(VGG16(include_top=False, input_shape=(224, 224, 3,)))\n",
        "model.add(Flatten())\n",
        "model.add(Dense(32))\n",
        "model.add(LeakyReLU(0.001))\n",
        "model.add(Dense(16))\n",
        "model.add(LeakyReLU(0.001))\n",
        "model.add(Dense(1, activation='sigmoid'))\n",
        "model.layers[0].trainable = False\n",
        "\n",
        "model.compile(loss='binary_crossentropy', optimizer='adam', metrics=['acc'])\n",
        "model.summary()"
      ],
      "execution_count": 0,
      "outputs": [
        {
          "output_type": "stream",
          "text": [
            "Downloading data from https://github.com/fchollet/deep-learning-models/releases/download/v0.1/vgg16_weights_tf_dim_ordering_tf_kernels_notop.h5\n",
            "58892288/58889256 [==============================] - 2s 0us/step\n",
            "Model: \"sequential_1\"\n",
            "_________________________________________________________________\n",
            "Layer (type)                 Output Shape              Param #   \n",
            "=================================================================\n",
            "vgg16 (Model)                (None, 7, 7, 512)         14714688  \n",
            "_________________________________________________________________\n",
            "flatten_1 (Flatten)          (None, 25088)             0         \n",
            "_________________________________________________________________\n",
            "dense_1 (Dense)              (None, 32)                802848    \n",
            "_________________________________________________________________\n",
            "leaky_re_lu_1 (LeakyReLU)    (None, 32)                0         \n",
            "_________________________________________________________________\n",
            "dense_2 (Dense)              (None, 16)                528       \n",
            "_________________________________________________________________\n",
            "leaky_re_lu_2 (LeakyReLU)    (None, 16)                0         \n",
            "_________________________________________________________________\n",
            "dense_3 (Dense)              (None, 1)                 17        \n",
            "=================================================================\n",
            "Total params: 15,518,081\n",
            "Trainable params: 803,393\n",
            "Non-trainable params: 14,714,688\n",
            "_________________________________________________________________\n"
          ],
          "name": "stdout"
        }
      ]
    },
    {
      "cell_type": "code",
      "metadata": {
        "id": "BwFC8OrzhnRs",
        "colab_type": "code",
        "outputId": "efbdefc4-fe54-4274-e8b1-0526f8bb70fb",
        "colab": {
          "base_uri": "https://localhost:8080/",
          "height": 1000
        }
      },
      "source": [
        "# Train the model\n",
        "N_EPOCHS = 50\n",
        "h = model.fit(xtra, ytra, validation_data=(xval, yval), epochs=N_EPOCHS, batch_size=20)"
      ],
      "execution_count": 0,
      "outputs": [
        {
          "output_type": "stream",
          "text": [
            "Train on 5010 samples, validate on 132 samples\n",
            "Epoch 1/50\n",
            "5010/5010 [==============================] - 46s 9ms/step - loss: 0.4409 - acc: 0.7926 - val_loss: 0.3469 - val_acc: 0.8485\n",
            "Epoch 2/50\n",
            "5010/5010 [==============================] - 37s 7ms/step - loss: 0.3444 - acc: 0.8453 - val_loss: 0.4044 - val_acc: 0.8106\n",
            "Epoch 3/50\n",
            "5010/5010 [==============================] - 38s 8ms/step - loss: 0.3023 - acc: 0.8671 - val_loss: 0.3190 - val_acc: 0.8485\n",
            "Epoch 4/50\n",
            "5010/5010 [==============================] - 38s 8ms/step - loss: 0.2663 - acc: 0.8760 - val_loss: 0.3020 - val_acc: 0.8636\n",
            "Epoch 5/50\n",
            "5010/5010 [==============================] - 39s 8ms/step - loss: 0.2380 - acc: 0.8922 - val_loss: 0.2909 - val_acc: 0.8561\n",
            "Epoch 6/50\n",
            "5010/5010 [==============================] - 39s 8ms/step - loss: 0.2239 - acc: 0.9020 - val_loss: 0.3927 - val_acc: 0.8106\n",
            "Epoch 7/50\n",
            "5010/5010 [==============================] - 39s 8ms/step - loss: 0.1942 - acc: 0.9172 - val_loss: 0.3884 - val_acc: 0.8636\n",
            "Epoch 8/50\n",
            "5010/5010 [==============================] - 39s 8ms/step - loss: 0.1778 - acc: 0.9214 - val_loss: 0.3609 - val_acc: 0.8258\n",
            "Epoch 9/50\n",
            "5010/5010 [==============================] - 39s 8ms/step - loss: 0.1555 - acc: 0.9337 - val_loss: 0.3383 - val_acc: 0.8788\n",
            "Epoch 10/50\n",
            "5010/5010 [==============================] - 39s 8ms/step - loss: 0.1662 - acc: 0.9281 - val_loss: 0.3993 - val_acc: 0.8258\n",
            "Epoch 11/50\n",
            "5010/5010 [==============================] - 39s 8ms/step - loss: 0.1264 - acc: 0.9479 - val_loss: 0.4351 - val_acc: 0.8409\n",
            "Epoch 12/50\n",
            "5010/5010 [==============================] - 39s 8ms/step - loss: 0.1325 - acc: 0.9445 - val_loss: 0.4544 - val_acc: 0.8485\n",
            "Epoch 13/50\n",
            "5010/5010 [==============================] - 39s 8ms/step - loss: 0.1239 - acc: 0.9477 - val_loss: 0.6423 - val_acc: 0.7424\n",
            "Epoch 14/50\n",
            "5010/5010 [==============================] - 39s 8ms/step - loss: 0.0955 - acc: 0.9591 - val_loss: 0.4054 - val_acc: 0.8485\n",
            "Epoch 15/50\n",
            "5010/5010 [==============================] - 39s 8ms/step - loss: 0.0927 - acc: 0.9661 - val_loss: 0.4495 - val_acc: 0.8485\n",
            "Epoch 16/50\n",
            "5010/5010 [==============================] - 39s 8ms/step - loss: 0.0702 - acc: 0.9747 - val_loss: 0.4972 - val_acc: 0.8561\n",
            "Epoch 17/50\n",
            "5010/5010 [==============================] - 39s 8ms/step - loss: 0.0791 - acc: 0.9727 - val_loss: 0.5855 - val_acc: 0.8030\n",
            "Epoch 18/50\n",
            "5010/5010 [==============================] - 39s 8ms/step - loss: 0.1082 - acc: 0.9615 - val_loss: 0.4087 - val_acc: 0.8561\n",
            "Epoch 19/50\n",
            "5010/5010 [==============================] - 39s 8ms/step - loss: 0.0863 - acc: 0.9687 - val_loss: 0.6322 - val_acc: 0.8106\n",
            "Epoch 20/50\n",
            "5010/5010 [==============================] - 39s 8ms/step - loss: 0.0571 - acc: 0.9800 - val_loss: 0.5286 - val_acc: 0.8485\n",
            "Epoch 21/50\n",
            "5010/5010 [==============================] - 39s 8ms/step - loss: 0.0621 - acc: 0.9768 - val_loss: 0.6647 - val_acc: 0.8409\n",
            "Epoch 22/50\n",
            "5010/5010 [==============================] - 39s 8ms/step - loss: 0.0833 - acc: 0.9687 - val_loss: 0.5239 - val_acc: 0.8485\n",
            "Epoch 23/50\n",
            "5010/5010 [==============================] - 39s 8ms/step - loss: 0.0661 - acc: 0.9743 - val_loss: 0.5273 - val_acc: 0.8409\n",
            "Epoch 24/50\n",
            "5010/5010 [==============================] - 39s 8ms/step - loss: 0.0636 - acc: 0.9745 - val_loss: 0.5761 - val_acc: 0.8409\n",
            "Epoch 25/50\n",
            "5010/5010 [==============================] - 39s 8ms/step - loss: 0.0394 - acc: 0.9858 - val_loss: 0.7159 - val_acc: 0.8409\n",
            "Epoch 26/50\n",
            "5010/5010 [==============================] - 39s 8ms/step - loss: 0.0475 - acc: 0.9816 - val_loss: 0.6707 - val_acc: 0.8106\n",
            "Epoch 27/50\n",
            "5010/5010 [==============================] - 39s 8ms/step - loss: 0.0535 - acc: 0.9792 - val_loss: 0.6930 - val_acc: 0.8485\n",
            "Epoch 28/50\n",
            "5010/5010 [==============================] - 39s 8ms/step - loss: 0.0231 - acc: 0.9942 - val_loss: 0.8673 - val_acc: 0.8333\n",
            "Epoch 29/50\n",
            "5010/5010 [==============================] - 39s 8ms/step - loss: 0.0381 - acc: 0.9856 - val_loss: 0.7335 - val_acc: 0.8561\n",
            "Epoch 30/50\n",
            "5010/5010 [==============================] - 39s 8ms/step - loss: 0.0396 - acc: 0.9850 - val_loss: 0.6483 - val_acc: 0.8409\n",
            "Epoch 31/50\n",
            "5010/5010 [==============================] - 39s 8ms/step - loss: 0.0263 - acc: 0.9920 - val_loss: 0.7882 - val_acc: 0.8636\n",
            "Epoch 32/50\n",
            "5010/5010 [==============================] - 39s 8ms/step - loss: 0.0385 - acc: 0.9858 - val_loss: 0.9404 - val_acc: 0.8333\n",
            "Epoch 33/50\n",
            "5010/5010 [==============================] - 39s 8ms/step - loss: 0.0580 - acc: 0.9780 - val_loss: 0.7488 - val_acc: 0.8561\n",
            "Epoch 34/50\n",
            "5010/5010 [==============================] - 39s 8ms/step - loss: 0.0193 - acc: 0.9946 - val_loss: 0.7977 - val_acc: 0.8561\n",
            "Epoch 35/50\n",
            "5010/5010 [==============================] - 39s 8ms/step - loss: 0.0128 - acc: 0.9962 - val_loss: 0.8685 - val_acc: 0.8258\n",
            "Epoch 36/50\n",
            "5010/5010 [==============================] - 39s 8ms/step - loss: 0.0141 - acc: 0.9958 - val_loss: 0.8138 - val_acc: 0.8409\n",
            "Epoch 37/50\n",
            "5010/5010 [==============================] - 39s 8ms/step - loss: 0.0456 - acc: 0.9834 - val_loss: 0.9573 - val_acc: 0.8409\n",
            "Epoch 38/50\n",
            "5010/5010 [==============================] - 39s 8ms/step - loss: 0.0317 - acc: 0.9902 - val_loss: 0.9383 - val_acc: 0.8485\n",
            "Epoch 39/50\n",
            "5010/5010 [==============================] - 39s 8ms/step - loss: 0.0072 - acc: 0.9988 - val_loss: 0.9190 - val_acc: 0.8485\n",
            "Epoch 40/50\n",
            "5010/5010 [==============================] - 39s 8ms/step - loss: 0.0064 - acc: 0.9980 - val_loss: 1.0739 - val_acc: 0.8485\n",
            "Epoch 41/50\n",
            "5010/5010 [==============================] - 39s 8ms/step - loss: 0.0121 - acc: 0.9972 - val_loss: 0.9547 - val_acc: 0.8561\n",
            "Epoch 42/50\n",
            "5010/5010 [==============================] - 39s 8ms/step - loss: 0.0371 - acc: 0.9902 - val_loss: 0.9029 - val_acc: 0.8409\n",
            "Epoch 43/50\n",
            "5010/5010 [==============================] - 39s 8ms/step - loss: 0.0870 - acc: 0.9665 - val_loss: 0.6769 - val_acc: 0.8636\n",
            "Epoch 44/50\n",
            "5010/5010 [==============================] - 39s 8ms/step - loss: 0.0133 - acc: 0.9976 - val_loss: 0.8691 - val_acc: 0.8561\n",
            "Epoch 45/50\n",
            "5010/5010 [==============================] - 39s 8ms/step - loss: 0.0250 - acc: 0.9904 - val_loss: 0.9297 - val_acc: 0.8333\n",
            "Epoch 46/50\n",
            "5010/5010 [==============================] - 39s 8ms/step - loss: 0.0179 - acc: 0.9942 - val_loss: 0.9501 - val_acc: 0.8258\n",
            "Epoch 47/50\n",
            "5010/5010 [==============================] - 39s 8ms/step - loss: 0.0070 - acc: 0.9986 - val_loss: 0.9543 - val_acc: 0.8485\n",
            "Epoch 48/50\n",
            "5010/5010 [==============================] - 39s 8ms/step - loss: 0.0024 - acc: 1.0000 - val_loss: 1.0845 - val_acc: 0.8636\n",
            "Epoch 49/50\n",
            "5010/5010 [==============================] - 39s 8ms/step - loss: 0.0989 - acc: 0.9719 - val_loss: 0.5280 - val_acc: 0.8030\n",
            "Epoch 50/50\n",
            "5010/5010 [==============================] - 39s 8ms/step - loss: 0.0778 - acc: 0.9739 - val_loss: 0.5949 - val_acc: 0.8409\n"
          ],
          "name": "stdout"
        }
      ]
    },
    {
      "cell_type": "code",
      "metadata": {
        "id": "VtkDq2U9lQWK",
        "colab_type": "code",
        "outputId": "ff6a8a58-1215-46e4-b7a7-a24498bec20b",
        "colab": {
          "base_uri": "https://localhost:8080/",
          "height": 301
        }
      },
      "source": [
        "import matplotlib.pyplot as plt\n",
        "\n",
        "plt.plot(h.history[\"acc\"])\n",
        "plt.plot(h.history['val_acc'])\n",
        "plt.plot(h.history['loss'])\n",
        "plt.plot(h.history['val_loss'])\n",
        "plt.title(\"model accuracy\")\n",
        "plt.ylabel(\"Accuracy\")\n",
        "plt.xlabel(\"Epoch\")\n",
        "plt.legend([\"Accuracy\",\"Validation Accuracy\",\"loss\",\"Validation Loss\"])\n",
        "plt.show()"
      ],
      "execution_count": 0,
      "outputs": [
        {
          "output_type": "display_data",
          "data": {
            "image/png": "[encoded data removed]",
            "text/plain": [
              "<Figure size 432x288 with 1 Axes>"
            ]
          },
          "metadata": {
            "tags": []
          }
        }
      ]
    },
    {
      "cell_type": "code",
      "metadata": {
        "id": "E5tTnRTdlNY4",
        "colab_type": "code",
        "outputId": "f4d7e7a7-7ffe-4b7a-c1d5-650baf237b07",
        "colab": {
          "base_uri": "https://localhost:8080/",
          "height": 51
        }
      },
      "source": [
        "print('Accuracy on test set:', model.evaluate(xtest, ytest)[1])\n",
        "model.save('appDermis_vgg16.h5')"
      ],
      "execution_count": 0,
      "outputs": [
        {
          "output_type": "stream",
          "text": [
            "660/660 [==============================] - 6s 9ms/step\n",
            "Accuracy on test set: 0.8530303239822388\n"
          ],
          "name": "stdout"
        }
      ]
    }
  ]
}